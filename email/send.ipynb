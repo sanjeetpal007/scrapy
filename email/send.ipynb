{
 "cells": [
  {
   "cell_type": "code",
   "execution_count": 3,
   "id": "3db882e6-d482-4052-af7c-78d88a977988",
   "metadata": {},
   "outputs": [
    {
     "name": "stdout",
     "output_type": "stream",
     "text": [
      "Error: (535, b'5.7.8 Username and Password not accepted. For more information, go to\\n5.7.8  https://support.google.com/mail/?p=BadCredentials d2e1a72fcca58-7254176fe28sm1559808b3a.72 - gsmtp')\n"
     ]
    }
   ],
   "source": [
    "import smtplib\n",
    "from email.mime.multipart import MIMEMultipart\n",
    "from email.mime.text import MIMEText\n",
    "\n",
    "def send_email(sender_email, sender_password, recipient_email, subject, body):\n",
    "    # Set up the MIME message\n",
    "    message = MIMEMultipart()\n",
    "    message['From'] = sender_email\n",
    "    message['To'] = recipient_email\n",
    "    message['Subject'] = subject\n",
    "    \n",
    "    # Attach the body with the msg instance\n",
    "    message.attach(MIMEText(body, 'plain'))\n",
    "    \n",
    "    try:\n",
    "        # Set up the SMTP server\n",
    "        server = smtplib.SMTP('smtp.gmail.com', 587)  # Use Gmail's SMTP server\n",
    "        server.starttls()  # Start TLS encryption\n",
    "        \n",
    "        # Login to the server\n",
    "        server.login(sender_email, sender_password)\n",
    "        \n",
    "        # Send the email\n",
    "        text = message.as_string()\n",
    "        server.sendmail(sender_email, recipient_email, text)\n",
    "        \n",
    "        # Print confirmation message\n",
    "        print(\"Email sent successfully!\")\n",
    "        \n",
    "    except Exception as e:\n",
    "        print(f\"Error: {str(e)}\")\n",
    "    \n",
    "    finally:\n",
    "        # Close the server connection\n",
    "        server.quit()\n",
    "\n",
    "# Example usage\n",
    "sender_email = \"sanjeetpal123456789@gmail.com\"\n",
    "sender_password = \"sanjeetpal12345@gmail.com\"  # You can generate an app password if 2FA is enabled\n",
    "recipient_email = \"sanjeetpal007@example.com\"\n",
    "subject = \"Test Email\"\n",
    "body = \"This is a test email sent from Python!\"\n",
    "\n",
    "send_email(sender_email, sender_password, recipient_email, subject, body)\n"
   ]
  },
  {
   "cell_type": "code",
   "execution_count": null,
   "id": "af134e11-56c8-4927-845b-e79f9769319a",
   "metadata": {},
   "outputs": [],
   "source": []
  },
  {
   "cell_type": "code",
   "execution_count": null,
   "id": "06691a70-b649-44ed-a117-6af11d36d693",
   "metadata": {},
   "outputs": [],
   "source": []
  },
  {
   "cell_type": "code",
   "execution_count": null,
   "id": "da13ba80-df29-43ca-aaf6-53f7db9850ef",
   "metadata": {},
   "outputs": [],
   "source": []
  }
 ],
 "metadata": {
  "kernelspec": {
   "display_name": "Python 3 (ipykernel)",
   "language": "python",
   "name": "python3"
  },
  "language_info": {
   "codemirror_mode": {
    "name": "ipython",
    "version": 3
   },
   "file_extension": ".py",
   "mimetype": "text/x-python",
   "name": "python",
   "nbconvert_exporter": "python",
   "pygments_lexer": "ipython3",
   "version": "3.13.0"
  }
 },
 "nbformat": 4,
 "nbformat_minor": 5
}
