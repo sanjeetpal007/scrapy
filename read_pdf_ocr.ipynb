{
 "cells": [
  {
   "cell_type": "code",
   "execution_count": 2,
   "id": "191761fa-6471-4686-b651-596e16d0b975",
   "metadata": {},
   "outputs": [
    {
     "name": "stdout",
     "output_type": "stream",
     "text": [
      "hello\n"
     ]
    }
   ],
   "source": [
    "print(\"hello\")"
   ]
  },
  {
   "cell_type": "code",
   "execution_count": null,
   "id": "2650ee69-0482-499e-86f9-baee84dc7694",
   "metadata": {},
   "outputs": [],
   "source": [
    "\"\"\"\n",
    "Page segmentation modes:\n",
    "0 Orientation and script detection (OSD) only.\n",
    "1 Automatic page segmentation with OSD.\n",
    "2 Automatic page segmentation, but no OSD, or OCR.\n",
    "3 Fully automatic page segmentation, but no OSD (default)\n",
    "4 Assume a single column of text of variable sizes\n",
    "5 Assume a single uniform block of vertically aligned text\n",
    "6 Assume a single uniform block of text.\n",
    "7 Treat the image as a single text line.\n",
    "8 Treat the image as a single word.\n",
    "9 Treat the image as a single word in a circle.\n",
    "10 Treat the image as a single character.\n",
    "11 Sparse text Find as much text as possible in no particular order.\n",
    "12 SParse text with OSD\n",
    "13 Raw line. Treat the image as a single text line, bypassing Tessract-specific hacks.\n",
    "\n",
    "\"\"\"\n",
    "\"\"\"\n",
    "OCR Engine Mode\n",
    "0 Legacy engine only.\n",
    "1 Neural nets LSTM engine only.\n",
    "2 Legacy +LSTM engines.\n",
    "3 Default, based on what is available\n",
    "\"\"\"\n",
    "\"\"\"\n",
    "CMD command to practice\n",
    "$ tesseract logos.jpg stdout\n",
    "$ tesseract logos.jpg stdout --psm 11\n",
    "$ tesseract logos.jpg stdout --l deu # deu for german\n",
    "$ tesseract logos.jpg text.txt # save the result into text\n",
    "\"\"\"\n"
   ]
  },
  {
   "cell_type": "code",
   "execution_count": 6,
   "id": "de8f5dac-d9d6-4e6a-a8bc-1c5c0bb3dcd4",
   "metadata": {},
   "outputs": [
    {
     "name": "stdout",
     "output_type": "stream",
     "text": [
      "\\\\ 2B: Cate Omdiouyp Go) & YG PHIL\n",
      "af, D DH ovis TED) (te) © <M Fedex\n",
      "(D sony Paypal ) EE Microsoft @ BoscH GEN)\n",
      "Orvces GZ ebay & kenwood sate A G&S coe\n",
      "Canon & wD [) Mobili BOSS ORacLe GI\n",
      "aS. BS ea € GW CD YY, ail... v0\n",
      "© um € @ 9 OG wor FS oT aw @\n",
      "\n"
     ]
    }
   ],
   "source": [
    "#pip install pillow opencv-python tesseract pytesseract\n",
    "import pytesseract\n",
    "import PIL.Image\n",
    "import cv2\n",
    "# C:\\Program Files\\Tesseract-OCR\\tesseract.exe\n",
    "pytesseract.pytesseract.tesseract_cmd = r\"C:\\Program Files\\Tesseract-OCR\\tesseract.exe\"\n",
    "myconfig = r\"--psm 6 --oem 3\"\n",
    "text = pytesseract.image_to_string(PIL.Image.open(\"logos.jpg\"),config=myconfig)\n",
    "print(text)\n"
   ]
  },
  {
   "cell_type": "code",
   "execution_count": 8,
   "id": "fcdf47a0-ee50-47c6-8628-bef8f64e516b",
   "metadata": {},
   "outputs": [
    {
     "name": "stdout",
     "output_type": "stream",
     "text": [
      "Cle\n",
      "\n",
      "& ‘Ge PHIL\n",
      "\n",
      "ionep (Go)\n",
      "\n",
      "@\n",
      "\n",
      "vodafone\n",
      "\n",
      "letting: > lke\n",
      "\n",
      "@ sony PayPal (1) BE Microsoft @ BOSCH\n",
      "\n",
      "pees! J] ebay > KENWOOD sell AN > manne\n",
      "\n",
      "Canon & wHD |.) Mobili MKB] BOSS ORACLE\n",
      "\n",
      "AVIDIA\n",
      "\n",
      "a. ES\n",
      "\n",
      "moa & CNW LD 1] Y nil ROLEX YAHOO!\n",
      "\n",
      "© om’ € @ Gu O vor SS aw @\n",
      "\n"
     ]
    }
   ],
   "source": [
    "import pytesseract\n",
    "import PIL.Image\n",
    "import cv2\n",
    "# C:\\Program Files\\Tesseract-OCR\\tesseract.exe\n",
    "pytesseract.pytesseract.tesseract_cmd = r\"C:\\Program Files\\Tesseract-OCR\\tesseract.exe\"\n",
    "myconfig = r\"--psm 11 --oem 3\"\n",
    "text = pytesseract.image_to_string(PIL.Image.open(\"logos.jpg\"),config=myconfig)\n",
    "print(text)"
   ]
  },
  {
   "cell_type": "code",
   "execution_count": 13,
   "id": "07a4cc4c-89c7-4300-bc39-21d7d6a0b581",
   "metadata": {},
   "outputs": [
    {
     "data": {
      "text/plain": [
       "-1"
      ]
     },
     "execution_count": 13,
     "metadata": {},
     "output_type": "execute_result"
    }
   ],
   "source": [
    "import pytesseract\n",
    "import PIL.Image\n",
    "import cv2\n",
    "# C:\\Program Files\\Tesseract-OCR\\tesseract.exe\n",
    "pytesseract.pytesseract.tesseract_cmd = r\"C:\\Program Files\\Tesseract-OCR\\tesseract.exe\"\n",
    "myconfig = r\"--psm 11 --oem 3\"\n",
    "#text = pytesseract.image_to_string(PIL.Image.open(\"logos.jpg\"),config=myconfig)\n",
    "#print(text)\n",
    "img=cv2.imread(\"logos.jpg\")\n",
    "height, weight, _ = img.shape\n",
    "boxes=pytesseract.image_to_boxes(img,config=myconfig)\n",
    "#print(boxes)\n",
    "for box in boxes.splitlines():\n",
    "    box =box.split(\" \")\n",
    "    img=cv2.rectangle(img,(int(box[1]),height-int(box[2])),(int(box[3]), height-int(box[4])),(0,255,0),2)\n",
    "cv2.imshow(\"img\",img)\n",
    "cv2.waitKey(0)\n",
    "\n"
   ]
  },
  {
   "cell_type": "code",
   "execution_count": null,
   "id": "ca6dffb1-f540-4518-b3e5-865dacd673cc",
   "metadata": {},
   "outputs": [],
   "source": []
  },
  {
   "cell_type": "code",
   "execution_count": 15,
   "id": "94b6edc1-44b8-4c3d-98e3-ba51d9536d10",
   "metadata": {},
   "outputs": [
    {
     "name": "stdout",
     "output_type": "stream",
     "text": [
      "['', '', '', '', 'CXtela', '', '', '', 'rDciep', 'GE)', 'be', 'YGIO', 'PHIL', '', '', '', '@', '', '', '', 'vodafone', '', '', '', '@', 'i:', 'TD', '(ete)', '©', '<a', 'Fedex', '©', '', '', '', '@', 'sony', 'PayPal', '(4)', 'BE', 'Microsoft', '@', 'BoscH', 'GIN)', '', '', '', 'Ovces', 'BJ', 'ebay', '&', 'Kenwooo', 'salle', 'A', 'G&S', 'mee', '', '', '', 'Canon', '&', 'wa', 'FY', 'Mobili', '', '', '', 'BOSS', 'ORACLE', '', '', '', 'nVIDIA', '', '', '', 'a.', 'Marlboro', '', '', '', 'v=,', '', '', '', '@', 'GN', 'LOO', 'BY', 'nchix', 'varoo!', '', '', '', 'O', 'om', '€', '@', 'og', 'Goon', 'BS', 'oT', 'w', '@']\n"
     ]
    }
   ],
   "source": [
    "import pytesseract\n",
    "import PIL.Image\n",
    "import cv2\n",
    "from pytesseract import Output\n",
    "# C:\\Program Files\\Tesseract-OCR\\tesseract.exe\n",
    "pytesseract.pytesseract.tesseract_cmd = r\"C:\\Program Files\\Tesseract-OCR\\tesseract.exe\"\n",
    "myconfig = r\"--psm 11 --oem 3\"\n",
    "#text = pytesseract.image_to_string(PIL.Image.open(\"logos.jpg\"),config=myconfig)\n",
    "#print(text)\n",
    "img=cv2.imread(\"logos.jpg\")\n",
    "height, weight, _ = img.shape\n",
    "data = pytesseract.image_to_data(img, config=myconfig, output_type=Output.DICT)\n",
    "\n",
    "#print(data)\n",
    "#print(data.key())\n",
    "print(data['text'])\n",
    "\n",
    "\n"
   ]
  },
  {
   "cell_type": "code",
   "execution_count": 26,
   "id": "4213112f-9ece-414f-8398-8849edede9fe",
   "metadata": {},
   "outputs": [
    {
     "data": {
      "text/plain": [
       "-1"
      ]
     },
     "execution_count": 26,
     "metadata": {},
     "output_type": "execute_result"
    }
   ],
   "source": [
    "import pytesseract\n",
    "import PIL.Image\n",
    "import cv2\n",
    "from pytesseract import Output\n",
    "# C:\\Program Files\\Tesseract-OCR\\tesseract.exe\n",
    "pytesseract.pytesseract.tesseract_cmd = r\"C:\\Program Files\\Tesseract-OCR\\tesseract.exe\"\n",
    "myconfig = r\"--psm 11 --oem 3\"\n",
    "#text = pytesseract.image_to_string(PIL.Image.open(\"logos.jpg\"),config=myconfig)\n",
    "#print(text)\n",
    "img=cv2.imread(\"logos.jpg\")\n",
    "height, weight, _ = img.shape\n",
    "data = pytesseract.image_to_data(img, config=myconfig, output_type=Output.DICT)\n",
    "\n",
    "amount_boxes=len(data['text'])\n",
    "for i in range(amount_boxes):\n",
    "    if float(data['conf'][i]) > 20:\n",
    "        (x,y,width,height)=(data['left'][i],data['top'][i],data['width'][i],data['height'][i])\n",
    "        img=cv2.rectangle(img,(x,y),(x+width,y+height),(0,255,0),2)\n",
    "        img = cv2.putText(img,data['text'][i],(x,y+height+20),cv2.FONT_HERSHEY_SIMPLEX,0.5,(0,255,0),2,cv2.LINE_AA)\n",
    "cv2.imshow(\"img\",img)\n",
    "cv2.waitKey(0)"
   ]
  },
  {
   "cell_type": "code",
   "execution_count": null,
   "id": "6f2a5878-ef80-46ba-b4e7-fbb4a65fdbbb",
   "metadata": {},
   "outputs": [],
   "source": []
  },
  {
   "cell_type": "code",
   "execution_count": null,
   "id": "9fc972f6-464d-4e4e-ae08-24a3117eb4e6",
   "metadata": {},
   "outputs": [],
   "source": []
  },
  {
   "cell_type": "code",
   "execution_count": 2,
   "id": "74c075df-74aa-4520-8225-35cf18225b49",
   "metadata": {},
   "outputs": [
    {
     "name": "stdout",
     "output_type": "stream",
     "text": [
      "Extracting text from PDF...\n",
      "Extracting images and performing OCR...\n",
      "Text has been saved to output\\extracted_text.txt\n",
      "Extraction complete! 118 images were processed.\n"
     ]
    }
   ],
   "source": [
    "\n",
    "# create a python program to convert pdf containing images and text into readable format.\n",
    "\n",
    "import fitz  # PyMuPDF\n",
    "import pytesseract\n",
    "from PIL import Image\n",
    "import os\n",
    "from io import BytesIO\n",
    "pytesseract.pytesseract.tesseract_cmd = r\"C:\\Program Files\\Tesseract-OCR\\tesseract.exe\"\n",
    "def extract_text_from_pdf(pdf_path):\n",
    "    \"\"\"\n",
    "    Extract text from the PDF document.\n",
    "    \"\"\"\n",
    "    doc = fitz.open(pdf_path)\n",
    "    text = ''\n",
    "    for page_num in range(doc.page_count):\n",
    "        page = doc.load_page(page_num)\n",
    "        text += page.get_text(\"text\")  # Get text from each page\n",
    "    return text\n",
    "\n",
    "def extract_images_from_pdf(pdf_path, output_dir):\n",
    "    \"\"\"\n",
    "    Extract images from the PDF and perform OCR on them.\n",
    "    \"\"\"\n",
    "    doc = fitz.open(pdf_path)\n",
    "    img_count = 0\n",
    "    text_from_images = ''\n",
    "    \n",
    "    # Iterate through each page of the PDF\n",
    "    for page_num in range(doc.page_count):\n",
    "        page = doc.load_page(page_num)\n",
    "        img_list = page.get_images(full=True)\n",
    "        \n",
    "        for img_index, img in enumerate(img_list):\n",
    "            xref = img[0]\n",
    "            base_image = doc.extract_image(xref)\n",
    "            img_bytes = base_image[\"image\"]  # Image in byte form\n",
    "            \n",
    "            # Convert the image bytes to a PIL image\n",
    "            image = Image.open(BytesIO(img_bytes))\n",
    "            \n",
    "            # Perform OCR to extract text from the image\n",
    "            ocr_text = pytesseract.image_to_string(image)\n",
    "            text_from_images += ocr_text  # Append OCR text\n",
    "            \n",
    "            # Optionally, save the image\n",
    "            image_filename = os.path.join(output_dir, f\"image{img_count + 1}.png\")\n",
    "            image.save(image_filename)\n",
    "            img_count += 1\n",
    "\n",
    "    return text_from_images, img_count\n",
    "\n",
    "def save_text_to_file(text, output_dir, filename=\"extracted_text.txt\"):\n",
    "    \"\"\"\n",
    "    Save extracted text (from both PDF and images) to a .txt file.\n",
    "    \"\"\"\n",
    "    output_path = os.path.join(output_dir, filename)\n",
    "    with open(output_path, \"w\", encoding=\"utf-8\") as file:\n",
    "        file.write(text)\n",
    "    print(f\"Text has been saved to {output_path}\")\n",
    "\n",
    "def main(pdf_path, output_dir):\n",
    "    \"\"\"\n",
    "    Main function to extract both text from PDF and OCR text from images.\n",
    "    \"\"\"\n",
    "    # Create output directory if it doesn't exist\n",
    "    if not os.path.exists(output_dir):\n",
    "        os.makedirs(output_dir)\n",
    "    \n",
    "    # Step 1: Extract text from PDF\n",
    "    print(\"Extracting text from PDF...\")\n",
    "    text = extract_text_from_pdf(pdf_path)\n",
    "    \n",
    "    # Step 2: Extract images and perform OCR\n",
    "    print(\"Extracting images and performing OCR...\")\n",
    "    ocr_text, img_count = extract_images_from_pdf(pdf_path, output_dir)\n",
    "    \n",
    "    # Combine the text from the PDF and OCR results\n",
    "    combined_text = text + \"\\n\\n\" + \"OCR Text from Images:\\n\" + ocr_text\n",
    "    \n",
    "    # Step 3: Save combined text to a file\n",
    "    save_text_to_file(combined_text, output_dir)\n",
    "\n",
    "    print(f\"Extraction complete! {img_count} images were processed.\")\n",
    "\n",
    "if __name__ == \"__main__\":\n",
    "    # Provide the path to the PDF and output directory\n",
    "    pdf_path = \"page_no_change.pdf\"  # Update with your PDF file path\n",
    "    output_dir = \"output\"  # Directory to save text and images\n",
    "    \n",
    "    # Run the main function\n",
    "    main(pdf_path, output_dir)\n"
   ]
  },
  {
   "cell_type": "code",
   "execution_count": null,
   "id": "d245d314-1dcd-415a-9a70-a00ff964625f",
   "metadata": {},
   "outputs": [],
   "source": []
  },
  {
   "cell_type": "code",
   "execution_count": null,
   "id": "dcabcb17-38b3-4490-9e66-ad824c34873f",
   "metadata": {},
   "outputs": [],
   "source": []
  },
  {
   "cell_type": "code",
   "execution_count": null,
   "id": "cd00ca7f-eee6-4bf2-81cb-4030b22115d0",
   "metadata": {},
   "outputs": [],
   "source": []
  },
  {
   "cell_type": "code",
   "execution_count": 3,
   "id": "c408c235-498d-42d7-9e40-6fa41510738c",
   "metadata": {},
   "outputs": [
    {
     "name": "stdout",
     "output_type": "stream",
     "text": [
      "Converting PDF 'page_no_change.pdf' to images...\n",
      "Extracting text from image: output2\\page_1.png...\n",
      "Extracting text from image: output2\\page_2.png...\n",
      "Extracting text from image: output2\\page_3.png...\n",
      "Extracting text from image: output2\\page_4.png...\n",
      "Extracting text from image: output2\\page_5.png...\n",
      "Extracting text from image: output2\\page_6.png...\n",
      "Extracting text from image: output2\\page_7.png...\n",
      "Extracting text from image: output2\\page_8.png...\n",
      "Extracting text from image: output2\\page_9.png...\n",
      "Extracting text from image: output2\\page_10.png...\n",
      "Extracting text from image: output2\\page_11.png...\n",
      "Extracting text from image: output2\\page_12.png...\n",
      "Extracting text from image: output2\\page_13.png...\n",
      "Extracting text from image: output2\\page_14.png...\n",
      "Extracting text from image: output2\\page_15.png...\n",
      "Extracting text from image: output2\\page_16.png...\n",
      "Extracting text from image: output2\\page_17.png...\n",
      "Extracting text from image: output2\\page_18.png...\n",
      "Extracting text from image: output2\\page_19.png...\n",
      "Extracting text from image: output2\\page_20.png...\n",
      "Extracting text from image: output2\\page_21.png...\n",
      "Extracting text from image: output2\\page_22.png...\n",
      "Extracting text from image: output2\\page_23.png...\n",
      "Extracting text from image: output2\\page_24.png...\n",
      "Extracting text from image: output2\\page_25.png...\n",
      "Extracting text from image: output2\\page_26.png...\n",
      "Extracting text from image: output2\\page_27.png...\n",
      "Extracting text from image: output2\\page_28.png...\n",
      "Extracting text from image: output2\\page_29.png...\n",
      "Extracting text from image: output2\\page_30.png...\n",
      "Extracting text from image: output2\\page_31.png...\n",
      "Extracting text from image: output2\\page_32.png...\n",
      "Text has been saved to output2\\extracted_text.txt\n"
     ]
    }
   ],
   "source": [
    "\n",
    "#create a python program to convert each page of pdf into image and then read each page of image and get text from the image.\n",
    "\n",
    "\n",
    "\n",
    "from pdf2image import convert_from_path\n",
    "import pytesseract\n",
    "from PIL import Image\n",
    "import os\n",
    "pytesseract.pytesseract.tesseract_cmd = r\"C:\\Program Files\\Tesseract-OCR\\tesseract.exe\"\n",
    "poppler_path=r'C:\\Program Files\\poppler-24.08.0\\Library\\bin'\n",
    "# If Tesseract is not in your PATH, specify the full path to the executable\n",
    "# Example: pytesseract.pytesseract.tesseract_cmd = r'C:\\Program Files\\Tesseract-OCR\\tesseract.exe'  # for Windows\n",
    "\n",
    "def pdf_to_images(pdf_path, output_dir):\n",
    "    \"\"\"\n",
    "    Converts each page of the PDF into an image and saves it to the output directory.\n",
    "    \"\"\"\n",
    "    # Convert PDF to images (one image per page)\n",
    "    images = convert_from_path(pdf_path,poppler_path=r'C:\\Program Files\\poppler-24.08.0\\Library\\bin')\n",
    "\n",
    "    if not os.path.exists(output_dir):\n",
    "        os.makedirs(output_dir)\n",
    "\n",
    "    image_paths = []\n",
    "    for i, image in enumerate(images):\n",
    "        image_filename = os.path.join(output_dir, f\"page_{i+1}.png\")\n",
    "        image.save(image_filename, 'PNG')  # Save as PNG\n",
    "        image_paths.append(image_filename)\n",
    "    \n",
    "    return image_paths\n",
    "\n",
    "def extract_text_from_image(image_path):\n",
    "    \"\"\"\n",
    "    Extracts text from an image using Tesseract OCR.\n",
    "    \"\"\"\n",
    "    image = Image.open(image_path)\n",
    "    text = pytesseract.image_to_string(image)\n",
    "    return text\n",
    "\n",
    "def convert_pdf_and_extract_text(pdf_path, output_dir):\n",
    "    \"\"\"\n",
    "    Convert each page of the PDF into an image and extract text using OCR.\n",
    "    \"\"\"\n",
    "    # Convert PDF to images\n",
    "    print(f\"Converting PDF '{pdf_path}' to images...\")\n",
    "    image_paths = pdf_to_images(pdf_path, output_dir)\n",
    "    \n",
    "    # Extract text from each image\n",
    "    all_text = ''\n",
    "    for image_path in image_paths:\n",
    "        print(f\"Extracting text from image: {image_path}...\")\n",
    "        text = extract_text_from_image(image_path)\n",
    "        all_text += f\"Text from {image_path}========================================================>:\\n{text}\\n\\n\"\n",
    "    \n",
    "    # Save the extracted text to a file\n",
    "    save_text_to_file(all_text, output_dir)\n",
    "\n",
    "def save_text_to_file(text, output_dir, filename=\"extracted_text.txt\"):\n",
    "    \"\"\"\n",
    "    Save the extracted text into a text file.\n",
    "    \"\"\"\n",
    "    output_path = os.path.join(output_dir, filename)\n",
    "    with open(output_path, \"w\", encoding=\"utf-8\") as file:\n",
    "        file.write(text)\n",
    "    print(f\"Text has been saved to {output_path}\")\n",
    "\n",
    "if __name__ == \"__main__\":\n",
    "    # Provide the path to the PDF and output directory\n",
    "    pdf_path = \"page_no_change.pdf\"  # Replace with your PDF file path\n",
    "    output_dir = \"output2\"  # Directory to save images and extracted text\n",
    "    \n",
    "    # Run the process\n",
    "    convert_pdf_and_extract_text(pdf_path, output_dir)"
   ]
  },
  {
   "cell_type": "code",
   "execution_count": null,
   "id": "4ee129aa-6370-4cdc-aec3-25d02426ad3d",
   "metadata": {},
   "outputs": [],
   "source": []
  },
  {
   "cell_type": "code",
   "execution_count": null,
   "id": "95c6a37b-e4f5-4e20-bb4d-af57f61174e6",
   "metadata": {},
   "outputs": [],
   "source": []
  },
  {
   "cell_type": "code",
   "execution_count": null,
   "id": "8c649bd6-6256-4298-b629-822c9664a082",
   "metadata": {},
   "outputs": [],
   "source": []
  },
  {
   "cell_type": "code",
   "execution_count": null,
   "id": "4d6d3b16-83b2-4ce1-8f14-3a667de3e822",
   "metadata": {},
   "outputs": [],
   "source": []
  },
  {
   "cell_type": "code",
   "execution_count": null,
   "id": "f5d96d39-50eb-45ec-a459-45e10ce704d1",
   "metadata": {},
   "outputs": [],
   "source": []
  },
  {
   "cell_type": "code",
   "execution_count": null,
   "id": "e9ba2481-f504-42b9-a462-f2e7d4a35d24",
   "metadata": {},
   "outputs": [],
   "source": []
  },
  {
   "cell_type": "code",
   "execution_count": null,
   "id": "c7ab4c7e-54d1-4156-99eb-02865c07546b",
   "metadata": {},
   "outputs": [],
   "source": []
  },
  {
   "cell_type": "code",
   "execution_count": null,
   "id": "b2f617b9-f409-4ed2-a5d6-0c863e1500a3",
   "metadata": {},
   "outputs": [],
   "source": []
  },
  {
   "cell_type": "code",
   "execution_count": null,
   "id": "7dcad6d3-baa6-47af-b385-793143a0a0db",
   "metadata": {},
   "outputs": [],
   "source": []
  },
  {
   "cell_type": "code",
   "execution_count": null,
   "id": "83352639-95d5-4dbf-b289-ee8bd32077b2",
   "metadata": {},
   "outputs": [],
   "source": []
  },
  {
   "cell_type": "code",
   "execution_count": null,
   "id": "deb7fa66-595c-4912-9124-5214189a6f2c",
   "metadata": {},
   "outputs": [],
   "source": []
  },
  {
   "cell_type": "code",
   "execution_count": null,
   "id": "61b6d558-6a23-4afb-aecd-74fe56a11140",
   "metadata": {},
   "outputs": [],
   "source": []
  },
  {
   "cell_type": "code",
   "execution_count": null,
   "id": "b93bfeb6-4834-4923-8521-a501d9219858",
   "metadata": {},
   "outputs": [],
   "source": []
  },
  {
   "cell_type": "code",
   "execution_count": null,
   "id": "c4f37aa3-76d3-40bb-99a3-8a55c372e3cb",
   "metadata": {},
   "outputs": [],
   "source": []
  },
  {
   "cell_type": "code",
   "execution_count": null,
   "id": "3f234fb9-d1a5-4c33-a4b6-edf695c9c3cd",
   "metadata": {},
   "outputs": [],
   "source": []
  },
  {
   "cell_type": "code",
   "execution_count": null,
   "id": "6c00139a-b4cd-4af2-9bf9-f86cb24d7afe",
   "metadata": {},
   "outputs": [],
   "source": []
  },
  {
   "cell_type": "code",
   "execution_count": null,
   "id": "59031bd0-a8c1-4098-b11d-c31d03bbb0f3",
   "metadata": {},
   "outputs": [],
   "source": []
  },
  {
   "cell_type": "code",
   "execution_count": null,
   "id": "2aeeaabb-36b5-4d10-a43e-13983e629faf",
   "metadata": {},
   "outputs": [],
   "source": []
  },
  {
   "cell_type": "code",
   "execution_count": null,
   "id": "56f213ff-dd6c-4411-a4dd-e7bf1a9c6386",
   "metadata": {},
   "outputs": [],
   "source": []
  },
  {
   "cell_type": "code",
   "execution_count": null,
   "id": "b78f5af9-9032-409e-a844-843b2a33156f",
   "metadata": {},
   "outputs": [],
   "source": []
  },
  {
   "cell_type": "code",
   "execution_count": null,
   "id": "b4cccdc9-baec-4015-ad30-1511f9b19512",
   "metadata": {},
   "outputs": [],
   "source": []
  },
  {
   "cell_type": "code",
   "execution_count": null,
   "id": "3fddb80d-ec79-425c-8426-c50c9d36c988",
   "metadata": {},
   "outputs": [],
   "source": []
  },
  {
   "cell_type": "code",
   "execution_count": null,
   "id": "8d86accd-175a-4b8f-be4c-d3e00a4187f1",
   "metadata": {},
   "outputs": [],
   "source": []
  },
  {
   "cell_type": "code",
   "execution_count": null,
   "id": "d81b8cbe-5351-4697-b39b-852d2ceb2390",
   "metadata": {},
   "outputs": [],
   "source": []
  },
  {
   "cell_type": "code",
   "execution_count": null,
   "id": "dbe38346-3a1d-4b57-8924-f135a2816bbb",
   "metadata": {},
   "outputs": [],
   "source": []
  },
  {
   "cell_type": "code",
   "execution_count": null,
   "id": "a5c2faef-e185-4473-9246-34797a432dd8",
   "metadata": {},
   "outputs": [],
   "source": []
  },
  {
   "cell_type": "code",
   "execution_count": null,
   "id": "bbded213-1f4e-4652-b711-2c7df7755b15",
   "metadata": {},
   "outputs": [],
   "source": []
  },
  {
   "cell_type": "code",
   "execution_count": null,
   "id": "cf788056-6ba2-495e-8959-01d3c91f9955",
   "metadata": {},
   "outputs": [],
   "source": []
  },
  {
   "cell_type": "code",
   "execution_count": null,
   "id": "f9825f04-2296-4a82-a677-8e171a27da53",
   "metadata": {},
   "outputs": [],
   "source": []
  },
  {
   "cell_type": "code",
   "execution_count": null,
   "id": "d6b78e69-0bef-414b-99a0-529edf3a0081",
   "metadata": {},
   "outputs": [],
   "source": []
  },
  {
   "cell_type": "code",
   "execution_count": null,
   "id": "9d8da941-fe16-4718-965a-b588c096d44d",
   "metadata": {},
   "outputs": [],
   "source": []
  },
  {
   "cell_type": "code",
   "execution_count": null,
   "id": "16fe57cf-dd3c-4544-97d6-52168a49d184",
   "metadata": {},
   "outputs": [],
   "source": []
  },
  {
   "cell_type": "code",
   "execution_count": null,
   "id": "eb8e0cac-baf7-422f-bf96-7b9cc7b16081",
   "metadata": {},
   "outputs": [],
   "source": []
  },
  {
   "cell_type": "code",
   "execution_count": null,
   "id": "e5b6610a-0ad4-4db4-bf86-edf1941d58d8",
   "metadata": {},
   "outputs": [],
   "source": []
  },
  {
   "cell_type": "code",
   "execution_count": null,
   "id": "969b135a-e155-490b-8eb4-62814b0f78bb",
   "metadata": {},
   "outputs": [],
   "source": []
  },
  {
   "cell_type": "code",
   "execution_count": null,
   "id": "b9a2aac0-8ee5-47d7-b9d8-1e4f15360275",
   "metadata": {},
   "outputs": [],
   "source": []
  },
  {
   "cell_type": "code",
   "execution_count": null,
   "id": "481831b9-5cf6-454f-8bbb-4f2854081b4b",
   "metadata": {},
   "outputs": [],
   "source": []
  },
  {
   "cell_type": "code",
   "execution_count": null,
   "id": "97dccfb1-88e2-4f99-9876-192bf3fc6e37",
   "metadata": {},
   "outputs": [],
   "source": []
  },
  {
   "cell_type": "code",
   "execution_count": null,
   "id": "0a60a462-a4af-4c15-8261-619261425199",
   "metadata": {},
   "outputs": [],
   "source": []
  },
  {
   "cell_type": "code",
   "execution_count": null,
   "id": "4804053c-6e89-4838-9116-b187c3e85cce",
   "metadata": {},
   "outputs": [],
   "source": []
  },
  {
   "cell_type": "code",
   "execution_count": null,
   "id": "4f186fba-75bb-4436-9dca-da970798b228",
   "metadata": {},
   "outputs": [],
   "source": []
  },
  {
   "cell_type": "code",
   "execution_count": null,
   "id": "521ad11b-1b0a-4871-9bf7-d7a4be0c0b6b",
   "metadata": {},
   "outputs": [],
   "source": []
  },
  {
   "cell_type": "code",
   "execution_count": null,
   "id": "7a9a0f7b-22c4-4e98-a9b9-a94e32190dce",
   "metadata": {},
   "outputs": [],
   "source": []
  },
  {
   "cell_type": "code",
   "execution_count": null,
   "id": "6ab9c0de-212c-4ac6-a48a-cd6ae3cbd59d",
   "metadata": {},
   "outputs": [],
   "source": []
  },
  {
   "cell_type": "code",
   "execution_count": null,
   "id": "b31763d5-30f5-4907-8631-0a8837709e96",
   "metadata": {},
   "outputs": [],
   "source": []
  },
  {
   "cell_type": "code",
   "execution_count": null,
   "id": "30305dd9-921f-47ff-8d57-cd6961d11196",
   "metadata": {},
   "outputs": [],
   "source": []
  },
  {
   "cell_type": "code",
   "execution_count": null,
   "id": "1fb42978-ad26-45e7-8045-c97aba465c51",
   "metadata": {},
   "outputs": [],
   "source": []
  },
  {
   "cell_type": "code",
   "execution_count": null,
   "id": "739a1580-ab4e-4068-866d-b7153226b668",
   "metadata": {},
   "outputs": [],
   "source": []
  },
  {
   "cell_type": "code",
   "execution_count": null,
   "id": "7deeb1d3-4649-48a0-bcf4-a96c014588d8",
   "metadata": {},
   "outputs": [],
   "source": []
  },
  {
   "cell_type": "code",
   "execution_count": null,
   "id": "6e4feac7-0605-4076-9ec7-3adf0287f86b",
   "metadata": {},
   "outputs": [],
   "source": []
  },
  {
   "cell_type": "code",
   "execution_count": null,
   "id": "ede6a69b-6892-4822-8696-f392a3e0605d",
   "metadata": {},
   "outputs": [],
   "source": []
  },
  {
   "cell_type": "code",
   "execution_count": null,
   "id": "aef0b928-1255-472c-a267-e360560a7cb3",
   "metadata": {},
   "outputs": [],
   "source": []
  },
  {
   "cell_type": "code",
   "execution_count": null,
   "id": "f8ec182f-9e6e-42b1-9609-4635cf9aa220",
   "metadata": {},
   "outputs": [],
   "source": []
  },
  {
   "cell_type": "code",
   "execution_count": null,
   "id": "efce8e72-da62-4c14-acac-34f52af187be",
   "metadata": {},
   "outputs": [],
   "source": []
  },
  {
   "cell_type": "code",
   "execution_count": null,
   "id": "124aca8b-2d84-4c21-976b-aba4cfb765f6",
   "metadata": {},
   "outputs": [],
   "source": []
  },
  {
   "cell_type": "code",
   "execution_count": null,
   "id": "3ee26ac9-5f2f-4ad3-a338-d206357a79ba",
   "metadata": {},
   "outputs": [],
   "source": []
  },
  {
   "cell_type": "code",
   "execution_count": null,
   "id": "06ced2d2-638c-4fa9-8ee3-d12100785502",
   "metadata": {},
   "outputs": [],
   "source": []
  },
  {
   "cell_type": "code",
   "execution_count": null,
   "id": "756fec89-c8a6-4bb9-9fab-8986c678949a",
   "metadata": {},
   "outputs": [],
   "source": []
  },
  {
   "cell_type": "code",
   "execution_count": null,
   "id": "175cbb0e-6247-482b-aa61-8bd9369b42c3",
   "metadata": {},
   "outputs": [],
   "source": []
  }
 ],
 "metadata": {
  "kernelspec": {
   "display_name": "Python 3 (ipykernel)",
   "language": "python",
   "name": "python3"
  },
  "language_info": {
   "codemirror_mode": {
    "name": "ipython",
    "version": 3
   },
   "file_extension": ".py",
   "mimetype": "text/x-python",
   "name": "python",
   "nbconvert_exporter": "python",
   "pygments_lexer": "ipython3",
   "version": "3.13.0"
  }
 },
 "nbformat": 4,
 "nbformat_minor": 5
}
