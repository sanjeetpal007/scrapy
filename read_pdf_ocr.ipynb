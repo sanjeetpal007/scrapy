{
 "cells": [
  {
   "cell_type": "code",
   "execution_count": 2,
   "id": "191761fa-6471-4686-b651-596e16d0b975",
   "metadata": {},
   "outputs": [
    {
     "name": "stdout",
     "output_type": "stream",
     "text": [
      "hello\n"
     ]
    }
   ],
   "source": [
    "print(\"hello\")"
   ]
  },
  {
   "cell_type": "code",
   "execution_count": null,
   "id": "2650ee69-0482-499e-86f9-baee84dc7694",
   "metadata": {},
   "outputs": [],
   "source": [
    "\"\"\"\n",
    "Page segmentation modes:\n",
    "0 Orientation and script detection (OSD) only.\n",
    "1 Automatic page segmentation with OSD.\n",
    "2 Automatic page segmentation, but no OSD, or OCR.\n",
    "3 Fully automatic page segmentation, but no OSD (default)\n",
    "4 Assume a single column of text of variable sizes\n",
    "5 Assume a single uniform block of vertically aligned text\n",
    "6 Assume a single uniform block of text.\n",
    "7 Treat the image as a single text line.\n",
    "8 Treat the image as a single word.\n",
    "9 Treat the image as a single word in a circle.\n",
    "10 Treat the image as a single character.\n",
    "11 Sparse text Find as much text as possible in no particular order.\n",
    "12 SParse text with OSD\n",
    "13 Raw line. Treat the image as a single text line, bypassing Tessract-specific hacks.\n",
    "\n",
    "\"\"\"\n",
    "\"\"\"\n",
    "OCR Engine Mode\n",
    "0 Legacy engine only.\n",
    "1 Neural nets LSTM engine only.\n",
    "2 Legacy +LSTM engines.\n",
    "3 Default, based on what is available\n",
    "\"\"\"\n",
    "\"\"\"\n",
    "CMD command to practice\n",
    "$ tesseract logos.jpg stdout\n",
    "$ tesseract logos.jpg stdout --psm 11\n",
    "$ tesseract logos.jpg stdout --l deu # deu for german\n",
    "$ tesseract logos.jpg text.txt # save the result into text\n",
    "\"\"\"\n"
   ]
  },
  {
   "cell_type": "code",
   "execution_count": 6,
   "id": "de8f5dac-d9d6-4e6a-a8bc-1c5c0bb3dcd4",
   "metadata": {},
   "outputs": [
    {
     "name": "stdout",
     "output_type": "stream",
     "text": [
      "\\\\ 2B: Cate Omdiouyp Go) & YG PHIL\n",
      "af, D DH ovis TED) (te) © <M Fedex\n",
      "(D sony Paypal ) EE Microsoft @ BoscH GEN)\n",
      "Orvces GZ ebay & kenwood sate A G&S coe\n",
      "Canon & wD [) Mobili BOSS ORacLe GI\n",
      "aS. BS ea € GW CD YY, ail... v0\n",
      "© um € @ 9 OG wor FS oT aw @\n",
      "\n"
     ]
    }
   ],
   "source": [
    "#pip install pillow opencv-python tesseract pytesseract\n",
    "import pytesseract\n",
    "import PIL.Image\n",
    "import cv2\n",
    "# C:\\Program Files\\Tesseract-OCR\\tesseract.exe\n",
    "pytesseract.pytesseract.tesseract_cmd = r\"C:\\Program Files\\Tesseract-OCR\\tesseract.exe\"\n",
    "myconfig = r\"--psm 6 --oem 3\"\n",
    "text = pytesseract.image_to_string(PIL.Image.open(\"logos.jpg\"),config=myconfig)\n",
    "print(text)\n"
   ]
  },
  {
   "cell_type": "code",
   "execution_count": 8,
   "id": "fcdf47a0-ee50-47c6-8628-bef8f64e516b",
   "metadata": {},
   "outputs": [
    {
     "name": "stdout",
     "output_type": "stream",
     "text": [
      "Cle\n",
      "\n",
      "& ‘Ge PHIL\n",
      "\n",
      "ionep (Go)\n",
      "\n",
      "@\n",
      "\n",
      "vodafone\n",
      "\n",
      "letting: > lke\n",
      "\n",
      "@ sony PayPal (1) BE Microsoft @ BOSCH\n",
      "\n",
      "pees! J] ebay > KENWOOD sell AN > manne\n",
      "\n",
      "Canon & wHD |.) Mobili MKB] BOSS ORACLE\n",
      "\n",
      "AVIDIA\n",
      "\n",
      "a. ES\n",
      "\n",
      "moa & CNW LD 1] Y nil ROLEX YAHOO!\n",
      "\n",
      "© om’ € @ Gu O vor SS aw @\n",
      "\n"
     ]
    }
   ],
   "source": [
    "import pytesseract\n",
    "import PIL.Image\n",
    "import cv2\n",
    "# C:\\Program Files\\Tesseract-OCR\\tesseract.exe\n",
    "pytesseract.pytesseract.tesseract_cmd = r\"C:\\Program Files\\Tesseract-OCR\\tesseract.exe\"\n",
    "myconfig = r\"--psm 11 --oem 3\"\n",
    "text = pytesseract.image_to_string(PIL.Image.open(\"logos.jpg\"),config=myconfig)\n",
    "print(text)"
   ]
  },
  {
   "cell_type": "code",
   "execution_count": 13,
   "id": "07a4cc4c-89c7-4300-bc39-21d7d6a0b581",
   "metadata": {},
   "outputs": [
    {
     "data": {
      "text/plain": [
       "-1"
      ]
     },
     "execution_count": 13,
     "metadata": {},
     "output_type": "execute_result"
    }
   ],
   "source": [
    "import pytesseract\n",
    "import PIL.Image\n",
    "import cv2\n",
    "# C:\\Program Files\\Tesseract-OCR\\tesseract.exe\n",
    "pytesseract.pytesseract.tesseract_cmd = r\"C:\\Program Files\\Tesseract-OCR\\tesseract.exe\"\n",
    "myconfig = r\"--psm 11 --oem 3\"\n",
    "#text = pytesseract.image_to_string(PIL.Image.open(\"logos.jpg\"),config=myconfig)\n",
    "#print(text)\n",
    "img=cv2.imread(\"logos.jpg\")\n",
    "height, weight, _ = img.shape\n",
    "boxes=pytesseract.image_to_boxes(img,config=myconfig)\n",
    "#print(boxes)\n",
    "for box in boxes.splitlines():\n",
    "    box =box.split(\" \")\n",
    "    img=cv2.rectangle(img,(int(box[1]),height-int(box[2])),(int(box[3]), height-int(box[4])),(0,255,0),2)\n",
    "cv2.imshow(\"img\",img)\n",
    "cv2.waitKey(0)\n",
    "\n"
   ]
  },
  {
   "cell_type": "code",
   "execution_count": null,
   "id": "ca6dffb1-f540-4518-b3e5-865dacd673cc",
   "metadata": {},
   "outputs": [],
   "source": []
  },
  {
   "cell_type": "code",
   "execution_count": 15,
   "id": "94b6edc1-44b8-4c3d-98e3-ba51d9536d10",
   "metadata": {},
   "outputs": [
    {
     "name": "stdout",
     "output_type": "stream",
     "text": [
      "['', '', '', '', 'CXtela', '', '', '', 'rDciep', 'GE)', 'be', 'YGIO', 'PHIL', '', '', '', '@', '', '', '', 'vodafone', '', '', '', '@', 'i:', 'TD', '(ete)', '©', '<a', 'Fedex', '©', '', '', '', '@', 'sony', 'PayPal', '(4)', 'BE', 'Microsoft', '@', 'BoscH', 'GIN)', '', '', '', 'Ovces', 'BJ', 'ebay', '&', 'Kenwooo', 'salle', 'A', 'G&S', 'mee', '', '', '', 'Canon', '&', 'wa', 'FY', 'Mobili', '', '', '', 'BOSS', 'ORACLE', '', '', '', 'nVIDIA', '', '', '', 'a.', 'Marlboro', '', '', '', 'v=,', '', '', '', '@', 'GN', 'LOO', 'BY', 'nchix', 'varoo!', '', '', '', 'O', 'om', '€', '@', 'og', 'Goon', 'BS', 'oT', 'w', '@']\n"
     ]
    }
   ],
   "source": [
    "import pytesseract\n",
    "import PIL.Image\n",
    "import cv2\n",
    "from pytesseract import Output\n",
    "# C:\\Program Files\\Tesseract-OCR\\tesseract.exe\n",
    "pytesseract.pytesseract.tesseract_cmd = r\"C:\\Program Files\\Tesseract-OCR\\tesseract.exe\"\n",
    "myconfig = r\"--psm 11 --oem 3\"\n",
    "#text = pytesseract.image_to_string(PIL.Image.open(\"logos.jpg\"),config=myconfig)\n",
    "#print(text)\n",
    "img=cv2.imread(\"logos.jpg\")\n",
    "height, weight, _ = img.shape\n",
    "data = pytesseract.image_to_data(img, config=myconfig, output_type=Output.DICT)\n",
    "\n",
    "#print(data)\n",
    "#print(data.key())\n",
    "print(data['text'])\n",
    "\n",
    "\n"
   ]
  },
  {
   "cell_type": "code",
   "execution_count": 26,
   "id": "4213112f-9ece-414f-8398-8849edede9fe",
   "metadata": {},
   "outputs": [
    {
     "data": {
      "text/plain": [
       "-1"
      ]
     },
     "execution_count": 26,
     "metadata": {},
     "output_type": "execute_result"
    }
   ],
   "source": [
    "import pytesseract\n",
    "import PIL.Image\n",
    "import cv2\n",
    "from pytesseract import Output\n",
    "# C:\\Program Files\\Tesseract-OCR\\tesseract.exe\n",
    "pytesseract.pytesseract.tesseract_cmd = r\"C:\\Program Files\\Tesseract-OCR\\tesseract.exe\"\n",
    "myconfig = r\"--psm 11 --oem 3\"\n",
    "#text = pytesseract.image_to_string(PIL.Image.open(\"logos.jpg\"),config=myconfig)\n",
    "#print(text)\n",
    "img=cv2.imread(\"logos.jpg\")\n",
    "height, weight, _ = img.shape\n",
    "data = pytesseract.image_to_data(img, config=myconfig, output_type=Output.DICT)\n",
    "\n",
    "amount_boxes=len(data['text'])\n",
    "for i in range(amount_boxes):\n",
    "    if float(data['conf'][i]) > 20:\n",
    "        (x,y,width,height)=(data['left'][i],data['top'][i],data['width'][i],data['height'][i])\n",
    "        img=cv2.rectangle(img,(x,y),(x+width,y+height),(0,255,0),2)\n",
    "        img = cv2.putText(img,data['text'][i],(x,y+height+20),cv2.FONT_HERSHEY_SIMPLEX,0.5,(0,255,0),2,cv2.LINE_AA)\n",
    "cv2.imshow(\"img\",img)\n",
    "cv2.waitKey(0)"
   ]
  },
  {
   "cell_type": "code",
   "execution_count": null,
   "id": "6f2a5878-ef80-46ba-b4e7-fbb4a65fdbbb",
   "metadata": {},
   "outputs": [],
   "source": []
  },
  {
   "cell_type": "code",
   "execution_count": null,
   "id": "9fc972f6-464d-4e4e-ae08-24a3117eb4e6",
   "metadata": {},
   "outputs": [],
   "source": []
  },
  {
   "cell_type": "code",
   "execution_count": null,
   "id": "74c075df-74aa-4520-8225-35cf18225b49",
   "metadata": {},
   "outputs": [],
   "source": []
  },
  {
   "cell_type": "code",
   "execution_count": null,
   "id": "cd00ca7f-eee6-4bf2-81cb-4030b22115d0",
   "metadata": {},
   "outputs": [],
   "source": []
  },
  {
   "cell_type": "code",
   "execution_count": null,
   "id": "c408c235-498d-42d7-9e40-6fa41510738c",
   "metadata": {},
   "outputs": [],
   "source": []
  },
  {
   "cell_type": "code",
   "execution_count": null,
   "id": "c7ab4c7e-54d1-4156-99eb-02865c07546b",
   "metadata": {},
   "outputs": [],
   "source": []
  },
  {
   "cell_type": "code",
   "execution_count": null,
   "id": "b2f617b9-f409-4ed2-a5d6-0c863e1500a3",
   "metadata": {},
   "outputs": [],
   "source": []
  },
  {
   "cell_type": "code",
   "execution_count": null,
   "id": "7dcad6d3-baa6-47af-b385-793143a0a0db",
   "metadata": {},
   "outputs": [],
   "source": []
  },
  {
   "cell_type": "code",
   "execution_count": null,
   "id": "83352639-95d5-4dbf-b289-ee8bd32077b2",
   "metadata": {},
   "outputs": [],
   "source": []
  },
  {
   "cell_type": "code",
   "execution_count": null,
   "id": "deb7fa66-595c-4912-9124-5214189a6f2c",
   "metadata": {},
   "outputs": [],
   "source": []
  },
  {
   "cell_type": "code",
   "execution_count": null,
   "id": "61b6d558-6a23-4afb-aecd-74fe56a11140",
   "metadata": {},
   "outputs": [],
   "source": []
  },
  {
   "cell_type": "code",
   "execution_count": null,
   "id": "b93bfeb6-4834-4923-8521-a501d9219858",
   "metadata": {},
   "outputs": [],
   "source": []
  },
  {
   "cell_type": "code",
   "execution_count": null,
   "id": "c4f37aa3-76d3-40bb-99a3-8a55c372e3cb",
   "metadata": {},
   "outputs": [],
   "source": []
  },
  {
   "cell_type": "code",
   "execution_count": null,
   "id": "3f234fb9-d1a5-4c33-a4b6-edf695c9c3cd",
   "metadata": {},
   "outputs": [],
   "source": []
  },
  {
   "cell_type": "code",
   "execution_count": null,
   "id": "6c00139a-b4cd-4af2-9bf9-f86cb24d7afe",
   "metadata": {},
   "outputs": [],
   "source": []
  },
  {
   "cell_type": "code",
   "execution_count": null,
   "id": "59031bd0-a8c1-4098-b11d-c31d03bbb0f3",
   "metadata": {},
   "outputs": [],
   "source": []
  },
  {
   "cell_type": "code",
   "execution_count": null,
   "id": "2aeeaabb-36b5-4d10-a43e-13983e629faf",
   "metadata": {},
   "outputs": [],
   "source": []
  },
  {
   "cell_type": "code",
   "execution_count": null,
   "id": "56f213ff-dd6c-4411-a4dd-e7bf1a9c6386",
   "metadata": {},
   "outputs": [],
   "source": []
  },
  {
   "cell_type": "code",
   "execution_count": null,
   "id": "b78f5af9-9032-409e-a844-843b2a33156f",
   "metadata": {},
   "outputs": [],
   "source": []
  },
  {
   "cell_type": "code",
   "execution_count": null,
   "id": "b4cccdc9-baec-4015-ad30-1511f9b19512",
   "metadata": {},
   "outputs": [],
   "source": []
  },
  {
   "cell_type": "code",
   "execution_count": null,
   "id": "3fddb80d-ec79-425c-8426-c50c9d36c988",
   "metadata": {},
   "outputs": [],
   "source": []
  },
  {
   "cell_type": "code",
   "execution_count": null,
   "id": "8d86accd-175a-4b8f-be4c-d3e00a4187f1",
   "metadata": {},
   "outputs": [],
   "source": []
  },
  {
   "cell_type": "code",
   "execution_count": null,
   "id": "d81b8cbe-5351-4697-b39b-852d2ceb2390",
   "metadata": {},
   "outputs": [],
   "source": []
  },
  {
   "cell_type": "code",
   "execution_count": null,
   "id": "dbe38346-3a1d-4b57-8924-f135a2816bbb",
   "metadata": {},
   "outputs": [],
   "source": []
  },
  {
   "cell_type": "code",
   "execution_count": null,
   "id": "a5c2faef-e185-4473-9246-34797a432dd8",
   "metadata": {},
   "outputs": [],
   "source": []
  },
  {
   "cell_type": "code",
   "execution_count": null,
   "id": "bbded213-1f4e-4652-b711-2c7df7755b15",
   "metadata": {},
   "outputs": [],
   "source": []
  },
  {
   "cell_type": "code",
   "execution_count": null,
   "id": "cf788056-6ba2-495e-8959-01d3c91f9955",
   "metadata": {},
   "outputs": [],
   "source": []
  },
  {
   "cell_type": "code",
   "execution_count": null,
   "id": "f9825f04-2296-4a82-a677-8e171a27da53",
   "metadata": {},
   "outputs": [],
   "source": []
  },
  {
   "cell_type": "code",
   "execution_count": null,
   "id": "d6b78e69-0bef-414b-99a0-529edf3a0081",
   "metadata": {},
   "outputs": [],
   "source": []
  },
  {
   "cell_type": "code",
   "execution_count": null,
   "id": "9d8da941-fe16-4718-965a-b588c096d44d",
   "metadata": {},
   "outputs": [],
   "source": []
  },
  {
   "cell_type": "code",
   "execution_count": null,
   "id": "16fe57cf-dd3c-4544-97d6-52168a49d184",
   "metadata": {},
   "outputs": [],
   "source": []
  },
  {
   "cell_type": "code",
   "execution_count": null,
   "id": "eb8e0cac-baf7-422f-bf96-7b9cc7b16081",
   "metadata": {},
   "outputs": [],
   "source": []
  },
  {
   "cell_type": "code",
   "execution_count": null,
   "id": "e5b6610a-0ad4-4db4-bf86-edf1941d58d8",
   "metadata": {},
   "outputs": [],
   "source": []
  },
  {
   "cell_type": "code",
   "execution_count": null,
   "id": "969b135a-e155-490b-8eb4-62814b0f78bb",
   "metadata": {},
   "outputs": [],
   "source": []
  },
  {
   "cell_type": "code",
   "execution_count": null,
   "id": "b9a2aac0-8ee5-47d7-b9d8-1e4f15360275",
   "metadata": {},
   "outputs": [],
   "source": []
  },
  {
   "cell_type": "code",
   "execution_count": null,
   "id": "481831b9-5cf6-454f-8bbb-4f2854081b4b",
   "metadata": {},
   "outputs": [],
   "source": []
  },
  {
   "cell_type": "code",
   "execution_count": null,
   "id": "97dccfb1-88e2-4f99-9876-192bf3fc6e37",
   "metadata": {},
   "outputs": [],
   "source": []
  },
  {
   "cell_type": "code",
   "execution_count": null,
   "id": "0a60a462-a4af-4c15-8261-619261425199",
   "metadata": {},
   "outputs": [],
   "source": []
  },
  {
   "cell_type": "code",
   "execution_count": null,
   "id": "4804053c-6e89-4838-9116-b187c3e85cce",
   "metadata": {},
   "outputs": [],
   "source": []
  },
  {
   "cell_type": "code",
   "execution_count": null,
   "id": "4f186fba-75bb-4436-9dca-da970798b228",
   "metadata": {},
   "outputs": [],
   "source": []
  },
  {
   "cell_type": "code",
   "execution_count": null,
   "id": "521ad11b-1b0a-4871-9bf7-d7a4be0c0b6b",
   "metadata": {},
   "outputs": [],
   "source": []
  },
  {
   "cell_type": "code",
   "execution_count": null,
   "id": "7a9a0f7b-22c4-4e98-a9b9-a94e32190dce",
   "metadata": {},
   "outputs": [],
   "source": []
  },
  {
   "cell_type": "code",
   "execution_count": null,
   "id": "6ab9c0de-212c-4ac6-a48a-cd6ae3cbd59d",
   "metadata": {},
   "outputs": [],
   "source": []
  },
  {
   "cell_type": "code",
   "execution_count": null,
   "id": "b31763d5-30f5-4907-8631-0a8837709e96",
   "metadata": {},
   "outputs": [],
   "source": []
  },
  {
   "cell_type": "code",
   "execution_count": null,
   "id": "30305dd9-921f-47ff-8d57-cd6961d11196",
   "metadata": {},
   "outputs": [],
   "source": []
  },
  {
   "cell_type": "code",
   "execution_count": null,
   "id": "1fb42978-ad26-45e7-8045-c97aba465c51",
   "metadata": {},
   "outputs": [],
   "source": []
  },
  {
   "cell_type": "code",
   "execution_count": null,
   "id": "739a1580-ab4e-4068-866d-b7153226b668",
   "metadata": {},
   "outputs": [],
   "source": []
  },
  {
   "cell_type": "code",
   "execution_count": null,
   "id": "7deeb1d3-4649-48a0-bcf4-a96c014588d8",
   "metadata": {},
   "outputs": [],
   "source": []
  },
  {
   "cell_type": "code",
   "execution_count": null,
   "id": "6e4feac7-0605-4076-9ec7-3adf0287f86b",
   "metadata": {},
   "outputs": [],
   "source": []
  },
  {
   "cell_type": "code",
   "execution_count": null,
   "id": "ede6a69b-6892-4822-8696-f392a3e0605d",
   "metadata": {},
   "outputs": [],
   "source": []
  },
  {
   "cell_type": "code",
   "execution_count": null,
   "id": "aef0b928-1255-472c-a267-e360560a7cb3",
   "metadata": {},
   "outputs": [],
   "source": []
  },
  {
   "cell_type": "code",
   "execution_count": null,
   "id": "f8ec182f-9e6e-42b1-9609-4635cf9aa220",
   "metadata": {},
   "outputs": [],
   "source": []
  },
  {
   "cell_type": "code",
   "execution_count": null,
   "id": "efce8e72-da62-4c14-acac-34f52af187be",
   "metadata": {},
   "outputs": [],
   "source": []
  },
  {
   "cell_type": "code",
   "execution_count": null,
   "id": "124aca8b-2d84-4c21-976b-aba4cfb765f6",
   "metadata": {},
   "outputs": [],
   "source": []
  },
  {
   "cell_type": "code",
   "execution_count": null,
   "id": "3ee26ac9-5f2f-4ad3-a338-d206357a79ba",
   "metadata": {},
   "outputs": [],
   "source": []
  },
  {
   "cell_type": "code",
   "execution_count": null,
   "id": "06ced2d2-638c-4fa9-8ee3-d12100785502",
   "metadata": {},
   "outputs": [],
   "source": []
  },
  {
   "cell_type": "code",
   "execution_count": null,
   "id": "756fec89-c8a6-4bb9-9fab-8986c678949a",
   "metadata": {},
   "outputs": [],
   "source": []
  },
  {
   "cell_type": "code",
   "execution_count": null,
   "id": "175cbb0e-6247-482b-aa61-8bd9369b42c3",
   "metadata": {},
   "outputs": [],
   "source": []
  }
 ],
 "metadata": {
  "kernelspec": {
   "display_name": "Python 3 (ipykernel)",
   "language": "python",
   "name": "python3"
  },
  "language_info": {
   "codemirror_mode": {
    "name": "ipython",
    "version": 3
   },
   "file_extension": ".py",
   "mimetype": "text/x-python",
   "name": "python",
   "nbconvert_exporter": "python",
   "pygments_lexer": "ipython3",
   "version": "3.13.0"
  }
 },
 "nbformat": 4,
 "nbformat_minor": 5
}
