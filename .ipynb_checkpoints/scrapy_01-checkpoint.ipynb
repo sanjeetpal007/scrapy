{
 "cells": [
  {
   "cell_type": "code",
   "execution_count": 1,
   "id": "0d6315ea-b9b6-4bbc-beb1-45c904d8b2cc",
   "metadata": {},
   "outputs": [],
   "source": [
    "from urllib.request import urlopen   "
   ]
  },
  {
   "cell_type": "code",
   "execution_count": 8,
   "id": "b5c64b6a-37b2-4e03-9bd2-5fbf750d8cc5",
   "metadata": {},
   "outputs": [
    {
     "data": {
      "text/plain": [
       "<http.client.HTTPResponse at 0x241b32ef6a0>"
      ]
     },
     "execution_count": 8,
     "metadata": {},
     "output_type": "execute_result"
    }
   ],
   "source": [
    "url=\"https://quotes.toscrape.com/\"\n",
    "resp= urlopen(url)\n",
    "resp"
   ]
  },
  {
   "cell_type": "code",
   "execution_count": 9,
   "id": "54c6179c-b05f-4062-aefc-3e6dc744214d",
   "metadata": {},
   "outputs": [
    {
     "data": {
      "text/plain": [
       "200"
      ]
     },
     "execution_count": 9,
     "metadata": {},
     "output_type": "execute_result"
    }
   ],
   "source": [
    "resp.status\n"
   ]
  },
  {
   "cell_type": "code",
   "execution_count": 11,
   "id": "50eeeb60-9b0f-4461-8b75-3f69b65ef98d",
   "metadata": {
    "scrolled": true
   },
   "outputs": [],
   "source": [
    "content=resp.read()\n",
    "#content.decode(\"utf-8\")"
   ]
  },
  {
   "cell_type": "code",
   "execution_count": 13,
   "id": "2fc0af6d-f3b5-4f0c-9ab1-b04402da2777",
   "metadata": {},
   "outputs": [],
   "source": [
    "with urlopen(url) as resp:\n",
    "    content = resp.read()\n",
    "    #print(content.decode(\"utf-8\"))"
   ]
  },
  {
   "cell_type": "code",
   "execution_count": 31,
   "id": "3be33c57-34c2-4905-9342-8def03d85b81",
   "metadata": {},
   "outputs": [
    {
     "data": {
      "text/plain": [
       "200"
      ]
     },
     "execution_count": 31,
     "metadata": {},
     "output_type": "execute_result"
    }
   ],
   "source": [
    "import requests as r\n",
    "resp=requests.get(url)\n",
    "resp.status_code\n",
    "#resp.content.decode(\"utf-8\")\n",
    "#resp.text\n",
    "#resp.headers"
   ]
  },
  {
   "cell_type": "code",
   "execution_count": null,
   "id": "066de530-0338-40e2-a61b-cf672530d808",
   "metadata": {},
   "outputs": [],
   "source": [
    "resp.headers['Content-Type']"
   ]
  },
  {
   "cell_type": "code",
   "execution_count": 22,
   "id": "0c0aacda-0589-4f7f-895e-31297d75ae47",
   "metadata": {},
   "outputs": [],
   "source": [
    "resp=requests.get(url,headers={\"User-Agent\":\"Mozilla/5.0\"})"
   ]
  },
  {
   "cell_type": "code",
   "execution_count": 26,
   "id": "acbdb480-baf1-4d6b-866f-be6adb4a5e37",
   "metadata": {},
   "outputs": [
    {
     "data": {
      "text/plain": [
       "{'headers': {'Accept': '*/*',\n",
       "  'Accept-Encoding': 'gzip, deflate',\n",
       "  'Host': 'httpbin.org',\n",
       "  'User-Agent': 'Mozilla/5.0',\n",
       "  'X-Amzn-Trace-Id': 'Root=1-6739eace-4433d324052ab4767ccaf5d1'}}"
      ]
     },
     "execution_count": 26,
     "metadata": {},
     "output_type": "execute_result"
    }
   ],
   "source": [
    "resp=requests.get(\"https://httpbin.org/headers\",headers={\"User-Agent\":\"Mozilla/5.0\"})\n",
    "resp.json()"
   ]
  },
  {
   "cell_type": "code",
   "execution_count": 27,
   "id": "5ff2968c-18a4-4ca5-9af5-ecdc2c500486",
   "metadata": {},
   "outputs": [
    {
     "data": {
      "text/plain": [
       "{'User-Agent': 'Mozilla/5.0',\n",
       " 'Accept-Encoding': 'gzip, deflate',\n",
       " 'Accept': '*/*',\n",
       " 'Connection': 'keep-alive'}"
      ]
     },
     "execution_count": 27,
     "metadata": {},
     "output_type": "execute_result"
    }
   ],
   "source": [
    "dict(resp.request.headers)"
   ]
  },
  {
   "cell_type": "code",
   "execution_count": 30,
   "id": "4f6ef65e-7d10-4554-8f26-02ce262c1683",
   "metadata": {},
   "outputs": [
    {
     "data": {
      "text/plain": [
       "'90445.615'"
      ]
     },
     "execution_count": 30,
     "metadata": {},
     "output_type": "execute_result"
    }
   ],
   "source": [
    "#book.com?author=JKRowling&title=HarryPorter&price=10\n",
    "url= \"https://api.coinbase.com/v2/exchange-rates?currency=BTC\"\n",
    "import requests as r\n",
    "resp=r.get(url)\n",
    "resp.json()['data']['rates']['USD']\n"
   ]
  },
  {
   "cell_type": "code",
   "execution_count": 33,
   "id": "8f1aff08-fd08-471b-b978-8566ab99fe82",
   "metadata": {},
   "outputs": [
    {
     "data": {
      "text/plain": [
       "'90584.155'"
      ]
     },
     "execution_count": 33,
     "metadata": {},
     "output_type": "execute_result"
    }
   ],
   "source": [
    "url=\"https://api.coinbase.com/v2/exchange-rates\"\n",
    "params={\"currency\":\"BTC\"}\n",
    "resp=r.get(url,params=params)\n",
    "resp.json()['data']['rates']['USD']"
   ]
  },
  {
   "cell_type": "code",
   "execution_count": 44,
   "id": "d99fdba4-eb0b-41f1-bd78-fe9abd41f35b",
   "metadata": {},
   "outputs": [
    {
     "data": {
      "text/plain": [
       "{'results': {'date': '2024-11-17',\n",
       "  'sunrise': '7:14:51 AM',\n",
       "  'sunset': '4:52:48 PM',\n",
       "  'first_light': '5:35:04 AM',\n",
       "  'last_light': '6:32:35 PM',\n",
       "  'dawn': '6:43:48 AM',\n",
       "  'dusk': '5:23:51 PM',\n",
       "  'solar_noon': '12:03:50 PM',\n",
       "  'golden_hour': '4:09:22 PM',\n",
       "  'day_length': '9:37:56',\n",
       "  'timezone': 'EST',\n",
       "  'utc_offset': -300},\n",
       " 'status': 'OK'}"
      ]
     },
     "execution_count": 44,
     "metadata": {},
     "output_type": "execute_result"
    }
   ],
   "source": [
    "url= \"https://api.sunrisesunset.io/json\"\n",
    "params={\n",
    "    \"lat\":43.6532,\n",
    "    \"lng\":-79.3832,\n",
    "    \"timezone\":\"EST\",\n",
    "    \"date\":\"today\"\n",
    "}\n",
    "headers={\n",
    "    \"User-Agent\":\"Mozilla/5.0\"\n",
    "}\n",
    "resp= r.get(url,params=params,headers=headers)\n",
    "#resp.status_code\n",
    "#resp.request.url\n",
    "resp.json()"
   ]
  },
  {
   "cell_type": "code",
   "execution_count": null,
   "id": "967197d5-938a-4df4-94fd-1040cda4ddfe",
   "metadata": {},
   "outputs": [],
   "source": [
    "Authentication and AUthorization\n"
   ]
  },
  {
   "cell_type": "code",
   "execution_count": 45,
   "id": "45cd205b-5249-43a2-af60-cf839e479338",
   "metadata": {},
   "outputs": [
    {
     "data": {
      "text/plain": [
       "<Response [401]>"
      ]
     },
     "execution_count": 45,
     "metadata": {},
     "output_type": "execute_result"
    }
   ],
   "source": [
    "API_KEY=\"YOUR_API_KEY_HERE\"\n",
    "url =\"https://api.exchange.coinbase.com/fills\"\n",
    "headers={\n",
    "    \"Authorization\":f\"Bearer{API_KEY}\",\n",
    "    \"Content-Type\":\"application/json\"\n",
    "}\n",
    "r.get(url,headers=headers)"
   ]
  },
  {
   "cell_type": "code",
   "execution_count": 47,
   "id": "d4114c73-aa85-4e11-88ae-4df01e654ce0",
   "metadata": {},
   "outputs": [
    {
     "data": {
      "text/plain": [
       "<Response [200]>"
      ]
     },
     "execution_count": 47,
     "metadata": {},
     "output_type": "execute_result"
    }
   ],
   "source": [
    "#basic auth -> username ,password\n",
    "auth=(\"user1\",\"pass2\")\n",
    "url=\"https://www.httpbin.org/basic-auth/user1/pass2\"\n",
    "r.get(url,auth=auth)"
   ]
  },
  {
   "cell_type": "code",
   "execution_count": 52,
   "id": "050a83f3-a509-4827-9df9-68dc2fac9245",
   "metadata": {},
   "outputs": [
    {
     "data": {
      "text/plain": [
       "{'args': {},\n",
       " 'data': '',\n",
       " 'files': {},\n",
       " 'form': {},\n",
       " 'headers': {'Accept': '*/*',\n",
       "  'Accept-Encoding': 'gzip, deflate',\n",
       "  'Content-Length': '0',\n",
       "  'Host': 'www.httpbin.org',\n",
       "  'User-Agent': 'python-requests/2.32.3',\n",
       "  'X-Amzn-Trace-Id': 'Root=1-673a11ae-7421149366ec87c116677d0a'},\n",
       " 'json': None,\n",
       " 'origin': '27.4.171.134',\n",
       " 'url': 'https://www.httpbin.org/put'}"
      ]
     },
     "execution_count": 52,
     "metadata": {},
     "output_type": "execute_result"
    }
   ],
   "source": [
    "import requests as r\n",
    "#r.delete(\"https://www.httpbin.org/delete\").json()\n",
    "#r.patch(\"https://www.httpbin.org/patch\").json()\n",
    "r.put(\"https://www.httpbin.org/put\").json()"
   ]
  },
  {
   "cell_type": "code",
   "execution_count": 8,
   "id": "e6dfc1c6-88cb-4e92-808e-d244caaad913",
   "metadata": {},
   "outputs": [
    {
     "data": {
      "text/plain": [
       "'key1=value1&key2=a+value+with+spaces+and+an+apostrophe'"
      ]
     },
     "execution_count": 8,
     "metadata": {},
     "output_type": "execute_result"
    }
   ],
   "source": [
    "#posting data\n",
    "#client send data to server via headers query params body\n",
    "import requests as r\n",
    "resp=r.post(\"https://www.httpbin.org/post\",\n",
    "            data={\"key1\":\"value1\",\n",
    "                  \"key2\":\"a value with spaces and an apostrophe\"            \n",
    "                 \n",
    "                 })\n",
    "resp.json()\n",
    "resp.request.body"
   ]
  },
  {
   "cell_type": "code",
   "execution_count": 9,
   "id": "290d852b-2744-4ebc-95a1-84125c27cced",
   "metadata": {},
   "outputs": [
    {
     "data": {
      "text/plain": [
       "b'{\"key1\": \"value1\", \"key2\": \"a value with spaces and an apostrophe\"}'"
      ]
     },
     "execution_count": 9,
     "metadata": {},
     "output_type": "execute_result"
    }
   ],
   "source": [
    "import requests as r\n",
    "resp=r.post(\"https://www.httpbin.org/post\",\n",
    "            json={\"key1\":\"value1\",\n",
    "                  \"key2\":\"a value with spaces and an apostrophe\"            \n",
    "                 })\n",
    "resp.json()\n",
    "resp.request.body"
   ]
  },
  {
   "cell_type": "markdown",
   "id": "f97967b3-8122-43d3-834c-8ce3e16bd859",
   "metadata": {},
   "source": [
    "# Beautiful soup"
   ]
  },
  {
   "cell_type": "code",
   "execution_count": 15,
   "id": "d18b5507-0212-4322-b15c-a5894a1f3b0c",
   "metadata": {},
   "outputs": [
    {
     "data": {
      "text/plain": [
       "<title>\n",
       "    All products | Books to Scrape - Sandbox\n",
       "</title>"
      ]
     },
     "execution_count": 15,
     "metadata": {},
     "output_type": "execute_result"
    }
   ],
   "source": [
    "#beautiful soup\n",
    "import requests as r\n",
    "from bs4 import BeautifulSoup\n",
    "resp=r.get(\"https://books.toscrape.com\")\n",
    "resp.content\n",
    "soup=BeautifulSoup(resp.content,\"html.parser\") #lxml\n",
    "type(soup)\n",
    "soup.title\n",
    "#print(soup.prettify())\n"
   ]
  },
  {
   "cell_type": "markdown",
   "id": "6ca97c26-abbe-4dc8-bec7-86ddf691ed10",
   "metadata": {},
   "source": [
    "soup.div"
   ]
  },
  {
   "cell_type": "code",
   "execution_count": null,
   "id": "e33b72c2-edb8-408b-a42d-7e8f22e0b7a1",
   "metadata": {},
   "outputs": [],
   "source": []
  },
  {
   "cell_type": "code",
   "execution_count": 19,
   "id": "856676a2-236f-4401-950f-abb4fdcba5f6",
   "metadata": {},
   "outputs": [
    {
     "data": {
      "text/plain": [
       "{'class': ['page_inner']}"
      ]
     },
     "execution_count": 19,
     "metadata": {},
     "output_type": "execute_result"
    }
   ],
   "source": [
    "#soup.h1\n",
    "first_div=soup.div\n",
    "#type(first_div)\n",
    "first_div.attrs"
   ]
  },
  {
   "cell_type": "code",
   "execution_count": 21,
   "id": "fabd5eb1-d96b-43bd-b46a-8f1f928fc63d",
   "metadata": {},
   "outputs": [
    {
     "data": {
      "text/plain": [
       "{'class': ['col-sm-8', 'h1']}"
      ]
     },
     "execution_count": 21,
     "metadata": {},
     "output_type": "execute_result"
    }
   ],
   "source": [
    "first_div.div.div.attrs"
   ]
  },
  {
   "cell_type": "code",
   "execution_count": 23,
   "id": "b7960be4-8e8e-4ea1-96d1-804cf77dbdac",
   "metadata": {},
   "outputs": [
    {
     "data": {
      "text/plain": [
       "<small> We love being scraped!</small>"
      ]
     },
     "execution_count": 23,
     "metadata": {},
     "output_type": "execute_result"
    }
   ],
   "source": [
    "first_div.div.div.small"
   ]
  },
  {
   "cell_type": "code",
   "execution_count": 24,
   "id": "0ca246f0-7b8b-4f1d-a37e-7537d3b08190",
   "metadata": {},
   "outputs": [
    {
     "data": {
      "text/plain": [
       "<div class=\"page_inner some-other-class\">\n",
       "<div class=\"row\">\n",
       "<div class=\"col-sm-8 h1\"><a href=\"index.html\">Books to Scrape</a><small> We love being scraped!</small>\n",
       "</div>\n",
       "</div>\n",
       "</div>"
      ]
     },
     "execution_count": 24,
     "metadata": {},
     "output_type": "execute_result"
    }
   ],
   "source": [
    "first_div.attrs['class'].append(\"some-other-class\")\n",
    "first_div"
   ]
  },
  {
   "cell_type": "markdown",
   "id": "f37926e8-ece3-4533-ba12-b45971bcd71d",
   "metadata": {},
   "source": [
    "# Parents ,children and Descendants"
   ]
  },
  {
   "cell_type": "code",
   "execution_count": 28,
   "id": "d10998e9-962b-4ced-b0b3-e9a63a4da604",
   "metadata": {},
   "outputs": [
    {
     "name": "stdout",
     "output_type": "stream",
     "text": [
      "<ul class=\"breadcrumb\">\n",
      " <li>\n",
      "  <a href=\"index.html\">\n",
      "   Home\n",
      "  </a>\n",
      " </li>\n",
      " <li class=\"active\">\n",
      "  All products\n",
      " </li>\n",
      "</ul>\n",
      "\n"
     ]
    }
   ],
   "source": [
    "#soup.ul\n",
    "print(soup.ul.prettify())"
   ]
  },
  {
   "cell_type": "code",
   "execution_count": 29,
   "id": "03bc2f93-a8d2-4987-b1be-67bea3d9997b",
   "metadata": {},
   "outputs": [
    {
     "data": {
      "text/plain": [
       "<list_iterator at 0x1ee927961d0>"
      ]
     },
     "execution_count": 29,
     "metadata": {},
     "output_type": "execute_result"
    }
   ],
   "source": [
    "soup.ul.children"
   ]
  },
  {
   "cell_type": "code",
   "execution_count": 30,
   "id": "89ff3234-4157-4398-98ef-35f04a5ffb09",
   "metadata": {},
   "outputs": [
    {
     "data": {
      "text/plain": [
       "['\\n',\n",
       " <li>\n",
       " <a href=\"index.html\">Home</a>\n",
       " </li>,\n",
       " '\\n',\n",
       " <li class=\"active\">All products</li>,\n",
       " '\\n']"
      ]
     },
     "execution_count": 30,
     "metadata": {},
     "output_type": "execute_result"
    }
   ],
   "source": [
    "list(soup.ul.children)"
   ]
  },
  {
   "cell_type": "code",
   "execution_count": 32,
   "id": "6e83b537-033e-48db-ac5e-0aeb9439f509",
   "metadata": {},
   "outputs": [
    {
     "data": {
      "text/plain": [
       "[<li>\n",
       " <a href=\"index.html\">Home</a>\n",
       " </li>,\n",
       " <li class=\"active\">All products</li>]"
      ]
     },
     "execution_count": 32,
     "metadata": {},
     "output_type": "execute_result"
    }
   ],
   "source": [
    "from bs4.element import NavigableString\n",
    "list(filter(lambda x:type(x)!=NavigableString,soup.ul.children))"
   ]
  },
  {
   "cell_type": "code",
   "execution_count": 33,
   "id": "c3249be6-8f3a-4532-93c1-2322ec3b1dca",
   "metadata": {},
   "outputs": [
    {
     "data": {
      "text/plain": [
       "[<li>\n",
       " <a href=\"index.html\">Home</a>\n",
       " </li>,\n",
       " <li class=\"active\">All products</li>]"
      ]
     },
     "execution_count": 33,
     "metadata": {},
     "output_type": "execute_result"
    }
   ],
   "source": [
    "def no_nav_string(iterable):\n",
    "    return list(filter(lambda x:type(x)!=NavigableString,iterable))\n",
    "no_nav_string(soup.ul.children)"
   ]
  },
  {
   "cell_type": "code",
   "execution_count": 34,
   "id": "733b94a1-5a86-43e0-8aef-e45fa7224294",
   "metadata": {},
   "outputs": [
    {
     "data": {
      "text/plain": [
       "[<li>\n",
       " <a href=\"index.html\">Home</a>\n",
       " </li>,\n",
       " <a href=\"index.html\">Home</a>,\n",
       " <li class=\"active\">All products</li>]"
      ]
     },
     "execution_count": 34,
     "metadata": {},
     "output_type": "execute_result"
    }
   ],
   "source": [
    "no_nav_string(soup.ul.descendants)\n",
    "# show descendants as anchor"
   ]
  },
  {
   "cell_type": "code",
   "execution_count": 37,
   "id": "39644341-bbb0-45f1-a265-26232c53dcb5",
   "metadata": {},
   "outputs": [
    {
     "data": {
      "text/plain": [
       "<li>\n",
       "<a href=\"index.html\">Home</a>\n",
       "</li>"
      ]
     },
     "execution_count": 37,
     "metadata": {},
     "output_type": "execute_result"
    }
   ],
   "source": [
    "desc=no_nav_string(soup.ul.descendants)\n",
    "desc[0]\n"
   ]
  },
  {
   "cell_type": "code",
   "execution_count": 39,
   "id": "6463636a-ba1d-4e59-812b-0ce681e7fe51",
   "metadata": {},
   "outputs": [
    {
     "data": {
      "text/plain": [
       "<ul class=\"breadcrumb\">\n",
       "<li>\n",
       "<a href=\"index.html\">Home</a>\n",
       "</li>\n",
       "<li class=\"active\">All products</li>\n",
       "</ul>"
      ]
     },
     "execution_count": 39,
     "metadata": {},
     "output_type": "execute_result"
    }
   ],
   "source": [
    "#give parents information of desc[0]\n",
    "desc[0].parent"
   ]
  },
  {
   "cell_type": "markdown",
   "id": "364bbb9b-a556-48a8-83bf-ad9f313df44f",
   "metadata": {},
   "source": [
    "# siblings"
   ]
  },
  {
   "cell_type": "code",
   "execution_count": 40,
   "id": "5378665f-c371-4f93-a031-f252eca25d90",
   "metadata": {},
   "outputs": [
    {
     "data": {
      "text/plain": [
       "<ul class=\"breadcrumb\">\n",
       "<li>\n",
       "<a href=\"index.html\">Home</a>\n",
       "</li>\n",
       "<li class=\"active\">All products</li>\n",
       "</ul>"
      ]
     },
     "execution_count": 40,
     "metadata": {},
     "output_type": "execute_result"
    }
   ],
   "source": [
    "soup.ul"
   ]
  },
  {
   "cell_type": "code",
   "execution_count": 41,
   "id": "1cd03db8-6057-456a-86b5-332d88139cd6",
   "metadata": {},
   "outputs": [
    {
     "data": {
      "text/plain": [
       "<li>\n",
       "<a href=\"index.html\">Home</a>\n",
       "</li>"
      ]
     },
     "execution_count": 41,
     "metadata": {},
     "output_type": "execute_result"
    }
   ],
   "source": [
    "soup.ul.li"
   ]
  },
  {
   "cell_type": "code",
   "execution_count": 42,
   "id": "e9d4a3d5-f7e4-42b1-aeda-b8733e24cf77",
   "metadata": {},
   "outputs": [
    {
     "data": {
      "text/plain": [
       "<li class=\"active\">All products</li>"
      ]
     },
     "execution_count": 42,
     "metadata": {},
     "output_type": "execute_result"
    }
   ],
   "source": [
    "soup.ul.li.next_sibling.next_sibling"
   ]
  },
  {
   "cell_type": "code",
   "execution_count": 44,
   "id": "14786972-a3ca-492f-9757-b076555bac28",
   "metadata": {},
   "outputs": [
    {
     "data": {
      "text/plain": [
       "'\\n'"
      ]
     },
     "execution_count": 44,
     "metadata": {},
     "output_type": "execute_result"
    }
   ],
   "source": [
    "soup.ul.li\\\n",
    "    .next_sibling\\\n",
    "    .next_sibling\\\n",
    "    .next_sibling"
   ]
  },
  {
   "cell_type": "markdown",
   "id": "f44c072b-748f-447c-b60d-6071038f7a58",
   "metadata": {},
   "source": [
    "# Extracting Text"
   ]
  },
  {
   "cell_type": "code",
   "execution_count": 45,
   "id": "460d3dc3-ef55-4db1-9db6-e9e13ea0d695",
   "metadata": {},
   "outputs": [
    {
     "data": {
      "text/plain": [
       "<a href=\"index.html\">Books to Scrape</a>"
      ]
     },
     "execution_count": 45,
     "metadata": {},
     "output_type": "execute_result"
    }
   ],
   "source": [
    "soup.a"
   ]
  },
  {
   "cell_type": "code",
   "execution_count": 47,
   "id": "2a1ed8d9-2215-4a12-9d10-c682d15daf8f",
   "metadata": {},
   "outputs": [
    {
     "data": {
      "text/plain": [
       "'Books to Scrape'"
      ]
     },
     "execution_count": 47,
     "metadata": {},
     "output_type": "execute_result"
    }
   ],
   "source": [
    "soup.a.get_text()"
   ]
  },
  {
   "cell_type": "code",
   "execution_count": 48,
   "id": "cbc956fd-d544-4586-9f95-c0174c12d222",
   "metadata": {},
   "outputs": [
    {
     "data": {
      "text/plain": [
       "'Books to Scrape'"
      ]
     },
     "execution_count": 48,
     "metadata": {},
     "output_type": "execute_result"
    }
   ],
   "source": [
    "soup.a.text"
   ]
  },
  {
   "cell_type": "code",
   "execution_count": 49,
   "id": "141def49-4187-4d09-98e4-5a3e042244ed",
   "metadata": {},
   "outputs": [
    {
     "data": {
      "text/plain": [
       "'Books to Scrape'"
      ]
     },
     "execution_count": 49,
     "metadata": {},
     "output_type": "execute_result"
    }
   ],
   "source": [
    "soup.a.string"
   ]
  },
  {
   "cell_type": "code",
   "execution_count": 50,
   "id": "d450c383-dfd6-412f-979b-221ed3c89e44",
   "metadata": {},
   "outputs": [
    {
     "data": {
      "text/plain": [
       "<ul class=\"breadcrumb\">\n",
       "<li>\n",
       "<a href=\"index.html\">Home</a>\n",
       "</li>\n",
       "<li class=\"active\">All products</li>\n",
       "</ul>"
      ]
     },
     "execution_count": 50,
     "metadata": {},
     "output_type": "execute_result"
    }
   ],
   "source": [
    "soup.ul"
   ]
  },
  {
   "cell_type": "code",
   "execution_count": 52,
   "id": "d710bd0c-1986-4598-a4b4-d0739207b7ba",
   "metadata": {},
   "outputs": [
    {
     "data": {
      "text/plain": [
       "'\\n\\nHome\\n\\nAll products\\n'"
      ]
     },
     "execution_count": 52,
     "metadata": {},
     "output_type": "execute_result"
    }
   ],
   "source": [
    "soup.ul.text"
   ]
  },
  {
   "cell_type": "code",
   "execution_count": 54,
   "id": "7720312f-50ea-4961-ba1b-eb82d56cf8a1",
   "metadata": {},
   "outputs": [],
   "source": [
    "#give output of text contain by that element not by its children or descendant\n",
    "soup.ul.string"
   ]
  },
  {
   "cell_type": "code",
   "execution_count": 57,
   "id": "dfe7920e-9477-4d10-8fac-17a9cef91f41",
   "metadata": {},
   "outputs": [
    {
     "name": "stdout",
     "output_type": "stream",
     "text": [
      "Books to Scrape of type <class 'str'>\n",
      "Books to Scrape of type <class 'str'>\n",
      "Books to Scrape of type <class 'bs4.element.NavigableString'>\n"
     ]
    }
   ],
   "source": [
    "print(soup.a.text,\"of type\",type(soup.a.text))\n",
    "print(soup.a.text,\"of type\",type(soup.a.get_text()))\n",
    "print(soup.a.text,\"of type\",type(soup.a.string))"
   ]
  },
  {
   "cell_type": "code",
   "execution_count": 64,
   "id": "502cc892-a3e0-4a6b-b57b-9ebd094a992b",
   "metadata": {},
   "outputs": [
    {
     "data": {
      "text/plain": [
       "'\\n\\nHome\\n\\nAll products\\n'"
      ]
     },
     "execution_count": 64,
     "metadata": {},
     "output_type": "execute_result"
    }
   ],
   "source": [
    "soup.ul.get_text()"
   ]
  },
  {
   "cell_type": "code",
   "execution_count": 63,
   "id": "98abd806-8b71-4942-ba31-01af491e0e9d",
   "metadata": {},
   "outputs": [
    {
     "data": {
      "text/plain": [
       "'\\n, \\n, Home, \\n, \\n, All products, \\n'"
      ]
     },
     "execution_count": 63,
     "metadata": {},
     "output_type": "execute_result"
    }
   ],
   "source": [
    "#function give more advance options\n",
    "soup.ul.get_text(separator=\", \")"
   ]
  },
  {
   "cell_type": "code",
   "execution_count": 66,
   "id": "3f3b24db-99ff-4184-8289-7ed6ea86dcf7",
   "metadata": {},
   "outputs": [
    {
     "data": {
      "text/plain": [
       "'Home, All products'"
      ]
     },
     "execution_count": 66,
     "metadata": {},
     "output_type": "execute_result"
    }
   ],
   "source": [
    "soup.ul.get_text(separator=\", \",strip=True)"
   ]
  },
  {
   "cell_type": "markdown",
   "id": "1993a2fc-bc9d-4d50-8f90-57e29c82576b",
   "metadata": {},
   "source": [
    "# ALl string"
   ]
  },
  {
   "cell_type": "code",
   "execution_count": 3,
   "id": "9d25764e-135c-458b-94db-a6c5e90d1090",
   "metadata": {},
   "outputs": [
    {
     "data": {
      "text/plain": [
       "<generator object PageElement.stripped_strings at 0x000001EA775C7D30>"
      ]
     },
     "execution_count": 3,
     "metadata": {},
     "output_type": "execute_result"
    }
   ],
   "source": [
    "import requests as r\n",
    "from bs4 import BeautifulSoup\n",
    "resp=r.get(\"https://books.toscrape.com\")\n",
    "resp.content\n",
    "soup=BeautifulSoup(resp.content,\"html.parser\") #lxml\n",
    "soup.stripped_strings"
   ]
  },
  {
   "cell_type": "code",
   "execution_count": 7,
   "id": "0aa166b1-12da-4a53-9ad2-434df4fefe74",
   "metadata": {},
   "outputs": [
    {
     "data": {
      "text/plain": [
       "147"
      ]
     },
     "execution_count": 7,
     "metadata": {},
     "output_type": "execute_result"
    }
   ],
   "source": [
    "all_strings=list(soup.stripped_strings)\n",
    "len(all_strings)"
   ]
  },
  {
   "cell_type": "code",
   "execution_count": 8,
   "id": "053948d1-e764-48c4-8459-65ce0f3a40f0",
   "metadata": {},
   "outputs": [
    {
     "data": {
      "text/plain": [
       "852"
      ]
     },
     "execution_count": 8,
     "metadata": {},
     "output_type": "execute_result"
    }
   ],
   "source": [
    "len(list(soup.strings))"
   ]
  },
  {
   "cell_type": "code",
   "execution_count": 9,
   "id": "db24fc3f-6f4e-46b3-9526-4d8b53122e48",
   "metadata": {},
   "outputs": [
    {
     "data": {
      "text/plain": [
       "['\\n',\n",
       " '\\n',\n",
       " '\\n',\n",
       " '\\n',\n",
       " ' ',\n",
       " ' ',\n",
       " '\\n',\n",
       " '\\n',\n",
       " '\\n    All products | Books to Scrape - Sandbox\\n',\n",
       " '\\n']"
      ]
     },
     "execution_count": 9,
     "metadata": {},
     "output_type": "execute_result"
    }
   ],
   "source": [
    "list(soup.strings)[:10]"
   ]
  },
  {
   "cell_type": "markdown",
   "id": "00eb7b85-c37d-46d1-b0aa-e7fcb58bef02",
   "metadata": {},
   "source": [
    "# search"
   ]
  },
  {
   "cell_type": "code",
   "execution_count": 11,
   "id": "5926e13a-cc1b-45a1-8939-139a300a3dc5",
   "metadata": {},
   "outputs": [
    {
     "data": {
      "text/plain": [
       "541"
      ]
     },
     "execution_count": 11,
     "metadata": {},
     "output_type": "execute_result"
    }
   ],
   "source": [
    "len(soup.find_all())"
   ]
  },
  {
   "cell_type": "code",
   "execution_count": 14,
   "id": "1c7c50ab-0728-437b-9733-d857226b1a8d",
   "metadata": {},
   "outputs": [
    {
     "data": {
      "text/plain": [
       "94"
      ]
     },
     "execution_count": 14,
     "metadata": {},
     "output_type": "execute_result"
    }
   ],
   "source": [
    "len(soup.find_all(\"a\"))"
   ]
  },
  {
   "cell_type": "code",
   "execution_count": 13,
   "id": "1e266f58-ce40-45ac-a110-71558ce4b1ac",
   "metadata": {},
   "outputs": [
    {
     "data": {
      "text/plain": [
       "154"
      ]
     },
     "execution_count": 13,
     "metadata": {},
     "output_type": "execute_result"
    }
   ],
   "source": [
    "len(soup.find_all([\"a\",\"p\"])) # give list f all the anchor tag "
   ]
  },
  {
   "cell_type": "code",
   "execution_count": 21,
   "id": "df69e382-9e1e-4125-b854-51a674cca2c7",
   "metadata": {},
   "outputs": [
    {
     "data": {
      "text/plain": [
       "['£51.77',\n",
       " '£53.74',\n",
       " '£50.10',\n",
       " '£47.82',\n",
       " '£54.23',\n",
       " '£22.65',\n",
       " '£33.34',\n",
       " '£17.93',\n",
       " '£22.60',\n",
       " '£52.15',\n",
       " '£13.99',\n",
       " '£20.66',\n",
       " '£17.46',\n",
       " '£52.29',\n",
       " '£35.02',\n",
       " '£57.25',\n",
       " '£23.88',\n",
       " '£37.59',\n",
       " '£51.33',\n",
       " '£45.17']"
      ]
     },
     "execution_count": 21,
     "metadata": {},
     "output_type": "execute_result"
    }
   ],
   "source": [
    "price_tags=soup.find_all(\"p\",class_=\"price_color\")\n",
    "[price.get_text() for price in price_tags]"
   ]
  },
  {
   "cell_type": "code",
   "execution_count": 17,
   "id": "38b434c7-8df0-490b-b9d6-067563440c4a",
   "metadata": {},
   "outputs": [
    {
     "data": {
      "text/plain": [
       "['£51.77',\n",
       " '£53.74',\n",
       " '£50.10',\n",
       " '£47.82',\n",
       " '£54.23',\n",
       " '£22.65',\n",
       " '£33.34',\n",
       " '£17.93',\n",
       " '£22.60',\n",
       " '£52.15',\n",
       " '£13.99',\n",
       " '£20.66',\n",
       " '£17.46',\n",
       " '£52.29',\n",
       " '£35.02',\n",
       " '£57.25',\n",
       " '£23.88',\n",
       " '£37.59',\n",
       " '£51.33',\n",
       " '£45.17']"
      ]
     },
     "execution_count": 17,
     "metadata": {},
     "output_type": "execute_result"
    }
   ],
   "source": [
    "#tag_name: p\n",
    "#attr: class=price_color\n",
    "price_tags=soup.find_all(\"p\",attrs={\"class\":\"price_color\"})\n",
    "[price.get_text() for price in price_tags]"
   ]
  },
  {
   "cell_type": "code",
   "execution_count": 22,
   "id": "bbcd1121-b4ec-49f1-89df-366230d866cc",
   "metadata": {},
   "outputs": [
    {
     "data": {
      "text/plain": [
       "20"
      ]
     },
     "execution_count": 22,
     "metadata": {},
     "output_type": "execute_result"
    }
   ],
   "source": [
    "add_button=soup.find_all(\"button\",\n",
    "                        attrs={\"data-loading-text\":\"Adding...\"})\n",
    "len(add_button)"
   ]
  },
  {
   "cell_type": "code",
   "execution_count": null,
   "id": "42857a31-12b4-41ed-b616-1131b74471de",
   "metadata": {},
   "outputs": [],
   "source": [
    "# contains add remove case-insensitive\n"
   ]
  },
  {
   "cell_type": "code",
   "execution_count": 24,
   "id": "4316be4f-1ce8-4332-893b-be78a99b4ad4",
   "metadata": {},
   "outputs": [
    {
     "data": {
      "text/plain": [
       "20"
      ]
     },
     "execution_count": 24,
     "metadata": {},
     "output_type": "execute_result"
    }
   ],
   "source": [
    "add_buttons=soup.find_all(\"button\",\n",
    "                         attrs={\"data-loading-text\":lambda x: \"add\" in x.lower() or \"remove\" in x.lower()}\n",
    "                         )\n",
    "len(add_buttons)"
   ]
  },
  {
   "cell_type": "markdown",
   "id": "b997fa62-bf10-467a-988a-0e47f807f085",
   "metadata": {},
   "source": [
    "# challenge\n",
    "## extract all the book data like name price and ratting and store it into a list"
   ]
  },
  {
   "cell_type": "code",
   "execution_count": null,
   "id": "bab04ddd-574a-45f9-aa66-abe0bd1ed2b8",
   "metadata": {},
   "outputs": [],
   "source": [
    "import requests as r\n",
    "from bs4 import BeautifulSoup\n",
    "r.get(\"https://books.toscrape.com/\")\n",
    "soup=BeautifulSoup(resp.content)"
   ]
  },
  {
   "cell_type": "code",
   "execution_count": 25,
   "id": "9a789f29-c5d5-482a-a53a-89037494a888",
   "metadata": {},
   "outputs": [
    {
     "data": {
      "text/plain": [
       "541"
      ]
     },
     "execution_count": 25,
     "metadata": {},
     "output_type": "execute_result"
    }
   ],
   "source": [
    "len(soup.find_all())"
   ]
  },
  {
   "cell_type": "code",
   "execution_count": 27,
   "id": "bc987fd9-2f59-4e9c-8ab6-ea4cc03181fd",
   "metadata": {},
   "outputs": [
    {
     "data": {
      "text/plain": [
       "20"
      ]
     },
     "execution_count": 27,
     "metadata": {},
     "output_type": "execute_result"
    }
   ],
   "source": [
    "book_tags=soup.find_all(\"article\",attrs={\"class\":\"product_pod\"})\n",
    "len(book_tags)"
   ]
  },
  {
   "cell_type": "code",
   "execution_count": 29,
   "id": "20c62d70-3013-40a5-8950-509e7d375afe",
   "metadata": {},
   "outputs": [
    {
     "data": {
      "text/plain": [
       "<article class=\"product_pod\">\n",
       "<div class=\"image_container\">\n",
       "<a href=\"catalogue/a-light-in-the-attic_1000/index.html\"><img alt=\"A Light in the Attic\" class=\"thumbnail\" src=\"media/cache/2c/da/2cdad67c44b002e7ead0cc35693c0e8b.jpg\"/></a>\n",
       "</div>\n",
       "<p class=\"star-rating Three\">\n",
       "<i class=\"icon-star\"></i>\n",
       "<i class=\"icon-star\"></i>\n",
       "<i class=\"icon-star\"></i>\n",
       "<i class=\"icon-star\"></i>\n",
       "<i class=\"icon-star\"></i>\n",
       "</p>\n",
       "<h3><a href=\"catalogue/a-light-in-the-attic_1000/index.html\" title=\"A Light in the Attic\">A Light in the ...</a></h3>\n",
       "<div class=\"product_price\">\n",
       "<p class=\"price_color\">£51.77</p>\n",
       "<p class=\"instock availability\">\n",
       "<i class=\"icon-ok\"></i>\n",
       "    \n",
       "        In stock\n",
       "    \n",
       "</p>\n",
       "<form>\n",
       "<button class=\"btn btn-primary btn-block\" data-loading-text=\"Adding...\" type=\"submit\">Add to basket</button>\n",
       "</form>\n",
       "</div>\n",
       "</article>"
      ]
     },
     "execution_count": 29,
     "metadata": {},
     "output_type": "execute_result"
    }
   ],
   "source": [
    "book_tags[0]"
   ]
  },
  {
   "cell_type": "code",
   "execution_count": 33,
   "id": "6ff7a915-a90f-426d-830c-8c3daa09f965",
   "metadata": {},
   "outputs": [
    {
     "data": {
      "text/plain": [
       "('A Light in the Attic', '£51.77', 'Three')"
      ]
     },
     "execution_count": 33,
     "metadata": {},
     "output_type": "execute_result"
    }
   ],
   "source": [
    "def extract_book_data(book_tags):\n",
    "    title=book_tags.find(\"h3\").find(\"a\")[\"title\"]\n",
    "    price=book_tags.find(\"p\",attrs={\"class\":\"price_color\"}).get_text()\n",
    "    ratting=book_tags.find(\"p\",attrs={\"class\":\"star-rating\"})[\"class\"][-1]\n",
    "    return title, price, ratting\n",
    "extract_book_data(book_tags[0])"
   ]
  },
  {
   "cell_type": "code",
   "execution_count": 36,
   "id": "71bcc18a-b964-430b-8251-baf7b94b1406",
   "metadata": {},
   "outputs": [
    {
     "data": {
      "text/plain": [
       "51.77"
      ]
     },
     "execution_count": 36,
     "metadata": {},
     "output_type": "execute_result"
    }
   ],
   "source": [
    "#modifying price by dicarding all char except dot and ratting\n",
    "def extract_book_data(book_tags):\n",
    "    title=book_tags.find(\"h3\").find(\"a\")[\"title\"]\n",
    "    price=book_tags.find(\"p\",attrs={\"class\":\"price_color\"}).get_text()\n",
    "    ratting=book_tags.find(\"p\",attrs={\"class\":\"star-rating\"})[\"class\"][-1]\n",
    "    return title, price, ratting\n",
    "b=extract_book_data(book_tags[0])\n",
    "\n",
    "def clean_price(price):\n",
    "    return float(\"\".join([char for char in price if char.isdigit() or char==\".\"]))\n",
    "clean_price(b[1])\n"
   ]
  },
  {
   "cell_type": "code",
   "execution_count": 38,
   "id": "f6348a4c-fd9a-435e-9991-b656755e0a51",
   "metadata": {},
   "outputs": [
    {
     "data": {
      "text/plain": [
       "51.77"
      ]
     },
     "execution_count": 38,
     "metadata": {},
     "output_type": "execute_result"
    }
   ],
   "source": [
    "# import regex\n",
    "import re\n",
    "def clean_price(price):\n",
    "    return float(re.sub(\"[^0-9.]\",\"\",price))\n",
    "clean_price(b[1])"
   ]
  },
  {
   "cell_type": "code",
   "execution_count": 46,
   "id": "258abcde-0468-4235-868e-bb6d80120d96",
   "metadata": {},
   "outputs": [],
   "source": [
    "def map_rating(rating):\n",
    "    rating_map={\n",
    "        \"One\": 1,\n",
    "        \"Two\": 2,\n",
    "        \"Three\": 3,\n",
    "        \"Four\": 4,\n",
    "        \"Five\": 5,\n",
    "    }\n",
    "    return rating_map[rating]"
   ]
  },
  {
   "cell_type": "code",
   "execution_count": 48,
   "id": "06f0ad3d-f1fd-482c-8440-fcc9d4d8bc6c",
   "metadata": {},
   "outputs": [
    {
     "data": {
      "text/plain": [
       "{'title': 'The Black Maria', 'price': 52.15, 'rating': 1}"
      ]
     },
     "execution_count": 48,
     "metadata": {},
     "output_type": "execute_result"
    }
   ],
   "source": [
    "\n",
    "def extract_book_data(book_tag):\n",
    "    title=book_tag.find(\"h3\").find(\"a\")[\"title\"]\n",
    "    price=book_tag.find(\"p\",attrs={\"class\":\"price_color\"}).get_text()\n",
    "    rating=book_tag.find(\"p\",attrs={\"class\":\"star-rating\"})[\"class\"][-1]\n",
    "    return {\n",
    "        \"title\": title,\n",
    "        \"price\": clean_price(price),\n",
    "        \"rating\": map_rating(rating)\n",
    "    }\n",
    "from random import choice\n",
    "extract_book_data(choice(book_tags))"
   ]
  },
  {
   "cell_type": "code",
   "execution_count": 49,
   "id": "00730911-23d7-452d-a00c-0da75e2b6ad4",
   "metadata": {},
   "outputs": [
    {
     "data": {
      "text/plain": [
       "[{'title': 'A Light in the Attic', 'price': 51.77, 'rating': 3},\n",
       " {'title': 'Tipping the Velvet', 'price': 53.74, 'rating': 1},\n",
       " {'title': 'Soumission', 'price': 50.1, 'rating': 1},\n",
       " {'title': 'Sharp Objects', 'price': 47.82, 'rating': 4},\n",
       " {'title': 'Sapiens: A Brief History of Humankind',\n",
       "  'price': 54.23,\n",
       "  'rating': 5},\n",
       " {'title': 'The Requiem Red', 'price': 22.65, 'rating': 1},\n",
       " {'title': 'The Dirty Little Secrets of Getting Your Dream Job',\n",
       "  'price': 33.34,\n",
       "  'rating': 4},\n",
       " {'title': 'The Coming Woman: A Novel Based on the Life of the Infamous Feminist, Victoria Woodhull',\n",
       "  'price': 17.93,\n",
       "  'rating': 3},\n",
       " {'title': 'The Boys in the Boat: Nine Americans and Their Epic Quest for Gold at the 1936 Berlin Olympics',\n",
       "  'price': 22.6,\n",
       "  'rating': 4},\n",
       " {'title': 'The Black Maria', 'price': 52.15, 'rating': 1},\n",
       " {'title': 'Starving Hearts (Triangular Trade Trilogy, #1)',\n",
       "  'price': 13.99,\n",
       "  'rating': 2},\n",
       " {'title': \"Shakespeare's Sonnets\", 'price': 20.66, 'rating': 4},\n",
       " {'title': 'Set Me Free', 'price': 17.46, 'rating': 5},\n",
       " {'title': \"Scott Pilgrim's Precious Little Life (Scott Pilgrim #1)\",\n",
       "  'price': 52.29,\n",
       "  'rating': 5},\n",
       " {'title': 'Rip it Up and Start Again', 'price': 35.02, 'rating': 5},\n",
       " {'title': 'Our Band Could Be Your Life: Scenes from the American Indie Underground, 1981-1991',\n",
       "  'price': 57.25,\n",
       "  'rating': 3},\n",
       " {'title': 'Olio', 'price': 23.88, 'rating': 1},\n",
       " {'title': 'Mesaerion: The Best Science Fiction Stories 1800-1849',\n",
       "  'price': 37.59,\n",
       "  'rating': 1},\n",
       " {'title': 'Libertarianism for Beginners', 'price': 51.33, 'rating': 2},\n",
       " {'title': \"It's Only the Himalayas\", 'price': 45.17, 'rating': 2}]"
      ]
     },
     "execution_count": 49,
     "metadata": {},
     "output_type": "execute_result"
    }
   ],
   "source": [
    "book_tags=soup.find_all(\"article\",attrs={\"class\":\"product_pod\"})\n",
    "book_data=[extract_book_data(book_tag) for book_tag in book_tags]\n",
    "book_data"
   ]
  },
  {
   "cell_type": "markdown",
   "id": "8d215b9b-23e7-4121-8d91-b630ed2d0b2d",
   "metadata": {},
   "source": [
    "# Extra Panda"
   ]
  },
  {
   "cell_type": "code",
   "execution_count": 50,
   "id": "ee50e972-d71d-4d53-9ee4-e937bdb4224e",
   "metadata": {},
   "outputs": [
    {
     "data": {
      "text/plain": [
       "38.048500000000004"
      ]
     },
     "execution_count": 50,
     "metadata": {},
     "output_type": "execute_result"
    }
   ],
   "source": [
    "sum(book[\"price\"] for book in book_data)/len(book_data)"
   ]
  },
  {
   "cell_type": "code",
   "execution_count": 51,
   "id": "f201c5b2-df31-445e-8196-26fbd930c336",
   "metadata": {},
   "outputs": [
    {
     "data": {
      "text/plain": [
       "['The Coming Woman: A Novel Based on the Life of the Infamous Feminist, Victoria Woodhull',\n",
       " 'Starving Hearts (Triangular Trade Trilogy, #1)',\n",
       " 'Set Me Free']"
      ]
     },
     "execution_count": 51,
     "metadata": {},
     "output_type": "execute_result"
    }
   ],
   "source": [
    "# title with price less than 20\n",
    "[book['title'] for book in book_data if book[\"price\"]<20]"
   ]
  },
  {
   "cell_type": "code",
   "execution_count": 52,
   "id": "56018e28-117d-4ca4-b178-086951842ed6",
   "metadata": {},
   "outputs": [
    {
     "data": {
      "text/html": [
       "<div>\n",
       "<style scoped>\n",
       "    .dataframe tbody tr th:only-of-type {\n",
       "        vertical-align: middle;\n",
       "    }\n",
       "\n",
       "    .dataframe tbody tr th {\n",
       "        vertical-align: top;\n",
       "    }\n",
       "\n",
       "    .dataframe thead th {\n",
       "        text-align: right;\n",
       "    }\n",
       "</style>\n",
       "<table border=\"1\" class=\"dataframe\">\n",
       "  <thead>\n",
       "    <tr style=\"text-align: right;\">\n",
       "      <th></th>\n",
       "      <th>title</th>\n",
       "      <th>price</th>\n",
       "      <th>rating</th>\n",
       "    </tr>\n",
       "  </thead>\n",
       "  <tbody>\n",
       "    <tr>\n",
       "      <th>0</th>\n",
       "      <td>A Light in the Attic</td>\n",
       "      <td>51.77</td>\n",
       "      <td>3</td>\n",
       "    </tr>\n",
       "    <tr>\n",
       "      <th>1</th>\n",
       "      <td>Tipping the Velvet</td>\n",
       "      <td>53.74</td>\n",
       "      <td>1</td>\n",
       "    </tr>\n",
       "    <tr>\n",
       "      <th>2</th>\n",
       "      <td>Soumission</td>\n",
       "      <td>50.10</td>\n",
       "      <td>1</td>\n",
       "    </tr>\n",
       "    <tr>\n",
       "      <th>3</th>\n",
       "      <td>Sharp Objects</td>\n",
       "      <td>47.82</td>\n",
       "      <td>4</td>\n",
       "    </tr>\n",
       "    <tr>\n",
       "      <th>4</th>\n",
       "      <td>Sapiens: A Brief History of Humankind</td>\n",
       "      <td>54.23</td>\n",
       "      <td>5</td>\n",
       "    </tr>\n",
       "    <tr>\n",
       "      <th>5</th>\n",
       "      <td>The Requiem Red</td>\n",
       "      <td>22.65</td>\n",
       "      <td>1</td>\n",
       "    </tr>\n",
       "    <tr>\n",
       "      <th>6</th>\n",
       "      <td>The Dirty Little Secrets of Getting Your Dream...</td>\n",
       "      <td>33.34</td>\n",
       "      <td>4</td>\n",
       "    </tr>\n",
       "    <tr>\n",
       "      <th>7</th>\n",
       "      <td>The Coming Woman: A Novel Based on the Life of...</td>\n",
       "      <td>17.93</td>\n",
       "      <td>3</td>\n",
       "    </tr>\n",
       "    <tr>\n",
       "      <th>8</th>\n",
       "      <td>The Boys in the Boat: Nine Americans and Their...</td>\n",
       "      <td>22.60</td>\n",
       "      <td>4</td>\n",
       "    </tr>\n",
       "    <tr>\n",
       "      <th>9</th>\n",
       "      <td>The Black Maria</td>\n",
       "      <td>52.15</td>\n",
       "      <td>1</td>\n",
       "    </tr>\n",
       "    <tr>\n",
       "      <th>10</th>\n",
       "      <td>Starving Hearts (Triangular Trade Trilogy, #1)</td>\n",
       "      <td>13.99</td>\n",
       "      <td>2</td>\n",
       "    </tr>\n",
       "    <tr>\n",
       "      <th>11</th>\n",
       "      <td>Shakespeare's Sonnets</td>\n",
       "      <td>20.66</td>\n",
       "      <td>4</td>\n",
       "    </tr>\n",
       "    <tr>\n",
       "      <th>12</th>\n",
       "      <td>Set Me Free</td>\n",
       "      <td>17.46</td>\n",
       "      <td>5</td>\n",
       "    </tr>\n",
       "    <tr>\n",
       "      <th>13</th>\n",
       "      <td>Scott Pilgrim's Precious Little Life (Scott Pi...</td>\n",
       "      <td>52.29</td>\n",
       "      <td>5</td>\n",
       "    </tr>\n",
       "    <tr>\n",
       "      <th>14</th>\n",
       "      <td>Rip it Up and Start Again</td>\n",
       "      <td>35.02</td>\n",
       "      <td>5</td>\n",
       "    </tr>\n",
       "    <tr>\n",
       "      <th>15</th>\n",
       "      <td>Our Band Could Be Your Life: Scenes from the A...</td>\n",
       "      <td>57.25</td>\n",
       "      <td>3</td>\n",
       "    </tr>\n",
       "    <tr>\n",
       "      <th>16</th>\n",
       "      <td>Olio</td>\n",
       "      <td>23.88</td>\n",
       "      <td>1</td>\n",
       "    </tr>\n",
       "    <tr>\n",
       "      <th>17</th>\n",
       "      <td>Mesaerion: The Best Science Fiction Stories 18...</td>\n",
       "      <td>37.59</td>\n",
       "      <td>1</td>\n",
       "    </tr>\n",
       "    <tr>\n",
       "      <th>18</th>\n",
       "      <td>Libertarianism for Beginners</td>\n",
       "      <td>51.33</td>\n",
       "      <td>2</td>\n",
       "    </tr>\n",
       "    <tr>\n",
       "      <th>19</th>\n",
       "      <td>It's Only the Himalayas</td>\n",
       "      <td>45.17</td>\n",
       "      <td>2</td>\n",
       "    </tr>\n",
       "  </tbody>\n",
       "</table>\n",
       "</div>"
      ],
      "text/plain": [
       "                                                title  price  rating\n",
       "0                                A Light in the Attic  51.77       3\n",
       "1                                  Tipping the Velvet  53.74       1\n",
       "2                                          Soumission  50.10       1\n",
       "3                                       Sharp Objects  47.82       4\n",
       "4               Sapiens: A Brief History of Humankind  54.23       5\n",
       "5                                     The Requiem Red  22.65       1\n",
       "6   The Dirty Little Secrets of Getting Your Dream...  33.34       4\n",
       "7   The Coming Woman: A Novel Based on the Life of...  17.93       3\n",
       "8   The Boys in the Boat: Nine Americans and Their...  22.60       4\n",
       "9                                     The Black Maria  52.15       1\n",
       "10     Starving Hearts (Triangular Trade Trilogy, #1)  13.99       2\n",
       "11                              Shakespeare's Sonnets  20.66       4\n",
       "12                                        Set Me Free  17.46       5\n",
       "13  Scott Pilgrim's Precious Little Life (Scott Pi...  52.29       5\n",
       "14                          Rip it Up and Start Again  35.02       5\n",
       "15  Our Band Could Be Your Life: Scenes from the A...  57.25       3\n",
       "16                                               Olio  23.88       1\n",
       "17  Mesaerion: The Best Science Fiction Stories 18...  37.59       1\n",
       "18                       Libertarianism for Beginners  51.33       2\n",
       "19                            It's Only the Himalayas  45.17       2"
      ]
     },
     "execution_count": 52,
     "metadata": {},
     "output_type": "execute_result"
    }
   ],
   "source": [
    "import pandas as pd\n",
    "df = pd.DataFrame(book_data)\n",
    "df"
   ]
  },
  {
   "cell_type": "code",
   "execution_count": 53,
   "id": "d9bf3965-59ae-4d7c-9722-06912e061801",
   "metadata": {},
   "outputs": [
    {
     "data": {
      "text/plain": [
       "np.float64(38.048500000000004)"
      ]
     },
     "execution_count": 53,
     "metadata": {},
     "output_type": "execute_result"
    }
   ],
   "source": [
    "df.price.mean()"
   ]
  },
  {
   "cell_type": "code",
   "execution_count": 54,
   "id": "4b10b688-d318-4d06-b950-41bb1b30d98a",
   "metadata": {},
   "outputs": [
    {
     "data": {
      "text/html": [
       "<div>\n",
       "<style scoped>\n",
       "    .dataframe tbody tr th:only-of-type {\n",
       "        vertical-align: middle;\n",
       "    }\n",
       "\n",
       "    .dataframe tbody tr th {\n",
       "        vertical-align: top;\n",
       "    }\n",
       "\n",
       "    .dataframe thead th {\n",
       "        text-align: right;\n",
       "    }\n",
       "</style>\n",
       "<table border=\"1\" class=\"dataframe\">\n",
       "  <thead>\n",
       "    <tr style=\"text-align: right;\">\n",
       "      <th></th>\n",
       "      <th>title</th>\n",
       "      <th>price</th>\n",
       "      <th>rating</th>\n",
       "    </tr>\n",
       "  </thead>\n",
       "  <tbody>\n",
       "    <tr>\n",
       "      <th>7</th>\n",
       "      <td>The Coming Woman: A Novel Based on the Life of...</td>\n",
       "      <td>17.93</td>\n",
       "      <td>3</td>\n",
       "    </tr>\n",
       "    <tr>\n",
       "      <th>10</th>\n",
       "      <td>Starving Hearts (Triangular Trade Trilogy, #1)</td>\n",
       "      <td>13.99</td>\n",
       "      <td>2</td>\n",
       "    </tr>\n",
       "    <tr>\n",
       "      <th>12</th>\n",
       "      <td>Set Me Free</td>\n",
       "      <td>17.46</td>\n",
       "      <td>5</td>\n",
       "    </tr>\n",
       "  </tbody>\n",
       "</table>\n",
       "</div>"
      ],
      "text/plain": [
       "                                                title  price  rating\n",
       "7   The Coming Woman: A Novel Based on the Life of...  17.93       3\n",
       "10     Starving Hearts (Triangular Trade Trilogy, #1)  13.99       2\n",
       "12                                        Set Me Free  17.46       5"
      ]
     },
     "execution_count": 54,
     "metadata": {},
     "output_type": "execute_result"
    }
   ],
   "source": [
    "df[df.price<20]"
   ]
  },
  {
   "cell_type": "code",
   "execution_count": 55,
   "id": "62e8c23e-c382-46eb-b412-1982fccc88dd",
   "metadata": {},
   "outputs": [
    {
     "data": {
      "text/plain": [
       "7     The Coming Woman: A Novel Based on the Life of...\n",
       "10       Starving Hearts (Triangular Trade Trilogy, #1)\n",
       "12                                          Set Me Free\n",
       "Name: title, dtype: object"
      ]
     },
     "execution_count": 55,
     "metadata": {},
     "output_type": "execute_result"
    }
   ],
   "source": [
    "df[df.price<20].title"
   ]
  },
  {
   "cell_type": "code",
   "execution_count": 60,
   "id": "b237bcf5-6dc0-4b7f-b8e2-bcca88831422",
   "metadata": {},
   "outputs": [],
   "source": [
    "df.to_csv(\"book1.csv\",index=False)"
   ]
  },
  {
   "cell_type": "code",
   "execution_count": 62,
   "id": "3f41c37f-6a3a-4cfa-b162-921f6c9eb190",
   "metadata": {},
   "outputs": [],
   "source": [
    "df.to_json(\"book.json\",orient=\"records\")"
   ]
  },
  {
   "cell_type": "markdown",
   "id": "d263e6be-cc80-4f08-acdc-a022270df553",
   "metadata": {},
   "source": [
    "# Functional Search Pattern"
   ]
  },
  {
   "cell_type": "code",
   "execution_count": 63,
   "id": "25041f84-5e46-4ed5-9b2e-c318e79e15cc",
   "metadata": {},
   "outputs": [
    {
     "data": {
      "text/plain": [
       "[<div id=\"messages\">\n",
       " </div>]"
      ]
     },
     "execution_count": 63,
     "metadata": {},
     "output_type": "execute_result"
    }
   ],
   "source": [
    "soup.find_all(id=\"messages\")"
   ]
  },
  {
   "cell_type": "code",
   "execution_count": null,
   "id": "eb4ab003-c9b8-4232-a46a-425ada707437",
   "metadata": {},
   "outputs": [],
   "source": []
  },
  {
   "cell_type": "code",
   "execution_count": 64,
   "id": "89fc77fc-4548-4b0c-bd38-92ebbb7f5dec",
   "metadata": {},
   "outputs": [
    {
     "data": {
      "text/plain": [
       "[<div id=\"messages\">\n",
       " </div>]"
      ]
     },
     "execution_count": 64,
     "metadata": {},
     "output_type": "execute_result"
    }
   ],
   "source": [
    "soup.find_all(attrs={\"id\":\"messages\"})"
   ]
  },
  {
   "cell_type": "code",
   "execution_count": 65,
   "id": "4bec0928-b9a5-4364-aa64-171609794502",
   "metadata": {},
   "outputs": [
    {
     "data": {
      "text/plain": [
       "4"
      ]
     },
     "execution_count": 65,
     "metadata": {},
     "output_type": "execute_result"
    }
   ],
   "source": [
    "len(soup.find_all(attrs={\"id\":lambda x: x is not None}))"
   ]
  },
  {
   "cell_type": "code",
   "execution_count": 66,
   "id": "f68291ec-60fc-499a-b65d-1676858b9f97",
   "metadata": {},
   "outputs": [
    {
     "data": {
      "text/plain": [
       "4"
      ]
     },
     "execution_count": 66,
     "metadata": {},
     "output_type": "execute_result"
    }
   ],
   "source": [
    "len(soup.find_all(id=lambda x: x is not None))"
   ]
  },
  {
   "cell_type": "code",
   "execution_count": 69,
   "id": "a00494a3-2670-4720-867f-8f04ae228b02",
   "metadata": {},
   "outputs": [
    {
     "data": {
      "text/plain": [
       "4"
      ]
     },
     "execution_count": 69,
     "metadata": {},
     "output_type": "execute_result"
    }
   ],
   "source": [
    "len(soup.find_all(lambda x : x.has_attr(\"id\")))"
   ]
  },
  {
   "cell_type": "code",
   "execution_count": 70,
   "id": "677c3c7a-eba6-4d99-8352-39794bcbf61d",
   "metadata": {},
   "outputs": [
    {
     "data": {
      "text/plain": [
       "[<a href=\"catalogue/category/books/historical-fiction_4/index.html\">\n",
       "                             \n",
       "                                 Historical Fiction\n",
       "                             \n",
       "                         </a>,\n",
       " <a href=\"catalogue/category/books/womens-fiction_9/index.html\">\n",
       "                             \n",
       "                                 Womens Fiction\n",
       "                             \n",
       "                         </a>,\n",
       " <a href=\"catalogue/category/books/fiction_10/index.html\">\n",
       "                             \n",
       "                                 Fiction\n",
       "                             \n",
       "                         </a>,\n",
       " <a href=\"catalogue/category/books/science-fiction_16/index.html\">\n",
       "                             \n",
       "                                 Science Fiction\n",
       "                             \n",
       "                         </a>,\n",
       " <a href=\"catalogue/category/books/adult-fiction_29/index.html\">\n",
       "                             \n",
       "                                 Adult Fiction\n",
       "                             \n",
       "                         </a>,\n",
       " <a href=\"catalogue/category/books/christian-fiction_34/index.html\">\n",
       "                             \n",
       "                                 Christian Fiction\n",
       "                             \n",
       "                         </a>]"
      ]
     },
     "execution_count": 70,
     "metadata": {},
     "output_type": "execute_result"
    }
   ],
   "source": [
    "def fiction_category_anchor(tag):\n",
    "    return tag.name == \"a\" and \"category\" in tag[\"href\"] and \"Fiction\" in tag.text\n",
    "soup.find_all(fiction_category_anchor)"
   ]
  },
  {
   "cell_type": "markdown",
   "id": "ee881360-b470-430b-b0c8-021fda8af829",
   "metadata": {},
   "source": [
    "# Text"
   ]
  },
  {
   "cell_type": "code",
   "execution_count": 73,
   "id": "610cb521-ecd8-4b93-801d-3de3b11123a4",
   "metadata": {},
   "outputs": [
    {
     "name": "stderr",
     "output_type": "stream",
     "text": [
      "C:\\Users\\sanje\\AppData\\Local\\Temp\\ipykernel_10128\\3156615359.py:1: DeprecationWarning: The 'text' argument to find()-type methods is deprecated. Use 'string' instead.\n",
      "  soup.find_all(text = \"Fiction\")\n"
     ]
    },
    {
     "data": {
      "text/plain": [
       "[]"
      ]
     },
     "execution_count": 73,
     "metadata": {},
     "output_type": "execute_result"
    }
   ],
   "source": [
    "soup.find_all(text = \"Fiction\")"
   ]
  },
  {
   "cell_type": "code",
   "execution_count": 79,
   "id": "eb0c45dd-cd72-4d24-aa18-13aea40a724e",
   "metadata": {},
   "outputs": [
    {
     "name": "stderr",
     "output_type": "stream",
     "text": [
      "C:\\Users\\sanje\\AppData\\Local\\Temp\\ipykernel_10128\\1383075415.py:3: DeprecationWarning: The 'text' argument to find()-type methods is deprecated. Use 'string' instead.\n",
      "  text_matches = soup.find_all(text= re.compile(\"Fiction\",re.I))\n"
     ]
    }
   ],
   "source": [
    "import re\n",
    "re.compile(\"Fiction\",re.I)\n",
    "text_matches = soup.find_all(text= re.compile(\"Fiction\",re.I))"
   ]
  },
  {
   "cell_type": "code",
   "execution_count": null,
   "id": "1d7bd377-30ac-42b2-9272-acc24d486951",
   "metadata": {},
   "outputs": [],
   "source": []
  },
  {
   "cell_type": "code",
   "execution_count": 80,
   "id": "671782e4-dfe4-4828-9f68-caa1635b0a30",
   "metadata": {},
   "outputs": [
    {
     "data": {
      "text/plain": [
       "['Historical Fiction',\n",
       " 'Womens Fiction',\n",
       " 'Fiction',\n",
       " 'Nonfiction',\n",
       " 'Science Fiction',\n",
       " 'Adult Fiction',\n",
       " 'Christian Fiction']"
      ]
     },
     "execution_count": 80,
     "metadata": {},
     "output_type": "execute_result"
    }
   ],
   "source": [
    "[text.strip() for text in text_matches]"
   ]
  },
  {
   "cell_type": "code",
   "execution_count": 81,
   "id": "e1d17651-efac-414c-818f-be9b93e097f4",
   "metadata": {},
   "outputs": [
    {
     "data": {
      "text/plain": [
       "['Historical Fiction',\n",
       " 'Womens Fiction',\n",
       " 'Fiction',\n",
       " 'Nonfiction',\n",
       " 'Science Fiction',\n",
       " 'Adult Fiction',\n",
       " 'Christian Fiction']"
      ]
     },
     "execution_count": 81,
     "metadata": {},
     "output_type": "execute_result"
    }
   ],
   "source": [
    "all_text=list(soup.stripped_strings)\n",
    "[text for text in all_text if \"fiction\" in text.lower()]"
   ]
  },
  {
   "cell_type": "code",
   "execution_count": 84,
   "id": "e40e5407-047d-4fde-880a-892f6b948abd",
   "metadata": {},
   "outputs": [
    {
     "name": "stderr",
     "output_type": "stream",
     "text": [
      "C:\\Users\\sanje\\AppData\\Local\\Temp\\ipykernel_10128\\3243297539.py:2: DeprecationWarning: The 'text' argument to find()-type methods is deprecated. Use 'string' instead.\n",
      "  match=soup.find_all(\"a\",text=re.compile(\"Fiction\",re.I))\n"
     ]
    }
   ],
   "source": [
    "# only match anchor that meet this text-base d criteria\n",
    "match=soup.find_all(\"a\",text=re.compile(\"Fiction\",re.I))\n",
    "all_text=list(soup.strings) #Navigable strings"
   ]
  },
  {
   "cell_type": "code",
   "execution_count": 85,
   "id": "8b8214de-8ff0-40f4-8930-512c645432c9",
   "metadata": {},
   "outputs": [
    {
     "data": {
      "text/plain": [
       "[<a href=\"catalogue/category/books/historical-fiction_4/index.html\">\n",
       "                             \n",
       "                                 Historical Fiction\n",
       "                             \n",
       "                         </a>,\n",
       " <a href=\"catalogue/category/books/womens-fiction_9/index.html\">\n",
       "                             \n",
       "                                 Womens Fiction\n",
       "                             \n",
       "                         </a>,\n",
       " <a href=\"catalogue/category/books/fiction_10/index.html\">\n",
       "                             \n",
       "                                 Fiction\n",
       "                             \n",
       "                         </a>,\n",
       " <a href=\"catalogue/category/books/nonfiction_13/index.html\">\n",
       "                             \n",
       "                                 Nonfiction\n",
       "                             \n",
       "                         </a>,\n",
       " <a href=\"catalogue/category/books/science-fiction_16/index.html\">\n",
       "                             \n",
       "                                 Science Fiction\n",
       "                             \n",
       "                         </a>,\n",
       " <a href=\"catalogue/category/books/adult-fiction_29/index.html\">\n",
       "                             \n",
       "                                 Adult Fiction\n",
       "                             \n",
       "                         </a>,\n",
       " <a href=\"catalogue/category/books/christian-fiction_34/index.html\">\n",
       "                             \n",
       "                                 Christian Fiction\n",
       "                             \n",
       "                         </a>]"
      ]
     },
     "execution_count": 85,
     "metadata": {},
     "output_type": "execute_result"
    }
   ],
   "source": [
    "[text.parent for text in all_text if \"fiction\" in text.lower() and text.parent.name == \"a\"]"
   ]
  },
  {
   "cell_type": "markdown",
   "id": "8706d814-c03c-4e5d-952c-a266157da363",
   "metadata": {},
   "source": [
    "# seraching by CSS"
   ]
  },
  {
   "cell_type": "code",
   "execution_count": 3,
   "id": "0cb641b4-f9e3-4a84-9513-6ed391abefcb",
   "metadata": {
    "scrolled": true
   },
   "outputs": [
    {
     "data": {
      "text/plain": [
       "['A Light in the Attic',\n",
       " 'Tipping the Velvet',\n",
       " 'Soumission',\n",
       " 'Sharp Objects',\n",
       " 'Sapiens: A Brief History of Humankind',\n",
       " 'The Requiem Red',\n",
       " 'The Dirty Little Secrets of Getting Your Dream Job',\n",
       " 'The Coming Woman: A Novel Based on the Life of the Infamous Feminist, Victoria Woodhull',\n",
       " 'The Boys in the Boat: Nine Americans and Their Epic Quest for Gold at the 1936 Berlin Olympics',\n",
       " 'The Black Maria',\n",
       " 'Starving Hearts (Triangular Trade Trilogy, #1)',\n",
       " \"Shakespeare's Sonnets\",\n",
       " 'Set Me Free',\n",
       " \"Scott Pilgrim's Precious Little Life (Scott Pilgrim #1)\",\n",
       " 'Rip it Up and Start Again',\n",
       " 'Our Band Could Be Your Life: Scenes from the American Indie Underground, 1981-1991',\n",
       " 'Olio',\n",
       " 'Mesaerion: The Best Science Fiction Stories 1800-1849',\n",
       " 'Libertarianism for Beginners',\n",
       " \"It's Only the Himalayas\"]"
      ]
     },
     "execution_count": 3,
     "metadata": {},
     "output_type": "execute_result"
    }
   ],
   "source": [
    "\n",
    "\n",
    "import requests as r\n",
    "from bs4 import BeautifulSoup\n",
    "resp=r.get(\"https://books.toscrape.com\")\n",
    "resp.content\n",
    "soup=BeautifulSoup(resp.content,\"html.parser\")\n",
    "\n",
    "\n",
    "\n",
    "\n",
    "book_tags=soup.find_all(\"article\",attrs={\"class\":\"product_pod\"})\n",
    "titles=[]\n",
    "for tag in book_tags:\n",
    "    title = tag.find(\"h3\").find(\"a\")[\"title\"]\n",
    "    titles.append(title)\n",
    "titles"
   ]
  },
  {
   "cell_type": "code",
   "execution_count": 9,
   "id": "b6c0b423-26b2-4e38-b6a4-52676d986cb1",
   "metadata": {},
   "outputs": [
    {
     "data": {
      "text/plain": [
       "[]"
      ]
     },
     "execution_count": 9,
     "metadata": {},
     "output_type": "execute_result"
    }
   ],
   "source": [
    "title_tags=soup.select(\"article.product_pad > h3 > a\")\n",
    "titles=[tag[\"title\"] for tag in title_tags]\n",
    "titles\n",
    "\n",
    "\n"
   ]
  },
  {
   "cell_type": "code",
   "execution_count": 13,
   "id": "7820f2bf-3c38-4105-85ca-26529a5ac960",
   "metadata": {},
   "outputs": [
    {
     "data": {
      "text/plain": [
       "[<a href=\"catalogue/a-light-in-the-attic_1000/index.html\" title=\"A Light in the Attic\">A Light in the ...</a>,\n",
       " <a href=\"catalogue/tipping-the-velvet_999/index.html\" title=\"Tipping the Velvet\">Tipping the Velvet</a>,\n",
       " <a href=\"catalogue/soumission_998/index.html\" title=\"Soumission\">Soumission</a>,\n",
       " <a href=\"catalogue/sharp-objects_997/index.html\" title=\"Sharp Objects\">Sharp Objects</a>,\n",
       " <a href=\"catalogue/sapiens-a-brief-history-of-humankind_996/index.html\" title=\"Sapiens: A Brief History of Humankind\">Sapiens: A Brief History ...</a>,\n",
       " <a href=\"catalogue/the-requiem-red_995/index.html\" title=\"The Requiem Red\">The Requiem Red</a>,\n",
       " <a href=\"catalogue/the-dirty-little-secrets-of-getting-your-dream-job_994/index.html\" title=\"The Dirty Little Secrets of Getting Your Dream Job\">The Dirty Little Secrets ...</a>,\n",
       " <a href=\"catalogue/the-coming-woman-a-novel-based-on-the-life-of-the-infamous-feminist-victoria-woodhull_993/index.html\" title=\"The Coming Woman: A Novel Based on the Life of the Infamous Feminist, Victoria Woodhull\">The Coming Woman: A ...</a>,\n",
       " <a href=\"catalogue/the-boys-in-the-boat-nine-americans-and-their-epic-quest-for-gold-at-the-1936-berlin-olympics_992/index.html\" title=\"The Boys in the Boat: Nine Americans and Their Epic Quest for Gold at the 1936 Berlin Olympics\">The Boys in the ...</a>,\n",
       " <a href=\"catalogue/the-black-maria_991/index.html\" title=\"The Black Maria\">The Black Maria</a>,\n",
       " <a href=\"catalogue/starving-hearts-triangular-trade-trilogy-1_990/index.html\" title=\"Starving Hearts (Triangular Trade Trilogy, #1)\">Starving Hearts (Triangular Trade ...</a>,\n",
       " <a href=\"catalogue/shakespeares-sonnets_989/index.html\" title=\"Shakespeare's Sonnets\">Shakespeare's Sonnets</a>,\n",
       " <a href=\"catalogue/set-me-free_988/index.html\" title=\"Set Me Free\">Set Me Free</a>,\n",
       " <a href=\"catalogue/scott-pilgrims-precious-little-life-scott-pilgrim-1_987/index.html\" title=\"Scott Pilgrim's Precious Little Life (Scott Pilgrim #1)\">Scott Pilgrim's Precious Little ...</a>,\n",
       " <a href=\"catalogue/rip-it-up-and-start-again_986/index.html\" title=\"Rip it Up and Start Again\">Rip it Up and ...</a>,\n",
       " <a href=\"catalogue/our-band-could-be-your-life-scenes-from-the-american-indie-underground-1981-1991_985/index.html\" title=\"Our Band Could Be Your Life: Scenes from the American Indie Underground, 1981-1991\">Our Band Could Be ...</a>,\n",
       " <a href=\"catalogue/olio_984/index.html\" title=\"Olio\">Olio</a>,\n",
       " <a href=\"catalogue/mesaerion-the-best-science-fiction-stories-1800-1849_983/index.html\" title=\"Mesaerion: The Best Science Fiction Stories 1800-1849\">Mesaerion: The Best Science ...</a>,\n",
       " <a href=\"catalogue/libertarianism-for-beginners_982/index.html\" title=\"Libertarianism for Beginners\">Libertarianism for Beginners</a>,\n",
       " <a href=\"catalogue/its-only-the-himalayas_981/index.html\" title=\"It's Only the Himalayas\">It's Only the Himalayas</a>]"
      ]
     },
     "execution_count": 13,
     "metadata": {},
     "output_type": "execute_result"
    }
   ],
   "source": [
    "soup.select(\"[title]\")"
   ]
  },
  {
   "cell_type": "code",
   "execution_count": 11,
   "id": "51552074-7362-4aee-8652-d29b3cd4e40c",
   "metadata": {},
   "outputs": [
    {
     "data": {
      "text/plain": [
       "[<a href=\"catalogue/sapiens-a-brief-history-of-humankind_996/index.html\" title=\"Sapiens: A Brief History of Humankind\">Sapiens: A Brief History ...</a>]"
      ]
     },
     "execution_count": 11,
     "metadata": {},
     "output_type": "execute_result"
    }
   ],
   "source": [
    "soup.select(\"[title*=Human]\")"
   ]
  },
  {
   "cell_type": "code",
   "execution_count": 14,
   "id": "ab6f77c3-8c31-4194-a5d5-80965a8c9e66",
   "metadata": {},
   "outputs": [
    {
     "data": {
      "text/plain": [
       "[<button class=\"btn btn-primary btn-block\" data-loading-text=\"Adding...\" type=\"submit\">Add to basket</button>,\n",
       " <button class=\"btn btn-primary btn-block\" data-loading-text=\"Adding...\" type=\"submit\">Add to basket</button>,\n",
       " <button class=\"btn btn-primary btn-block\" data-loading-text=\"Adding...\" type=\"submit\">Add to basket</button>,\n",
       " <button class=\"btn btn-primary btn-block\" data-loading-text=\"Adding...\" type=\"submit\">Add to basket</button>,\n",
       " <button class=\"btn btn-primary btn-block\" data-loading-text=\"Adding...\" type=\"submit\">Add to basket</button>,\n",
       " <button class=\"btn btn-primary btn-block\" data-loading-text=\"Adding...\" type=\"submit\">Add to basket</button>,\n",
       " <button class=\"btn btn-primary btn-block\" data-loading-text=\"Adding...\" type=\"submit\">Add to basket</button>,\n",
       " <button class=\"btn btn-primary btn-block\" data-loading-text=\"Adding...\" type=\"submit\">Add to basket</button>,\n",
       " <button class=\"btn btn-primary btn-block\" data-loading-text=\"Adding...\" type=\"submit\">Add to basket</button>,\n",
       " <button class=\"btn btn-primary btn-block\" data-loading-text=\"Adding...\" type=\"submit\">Add to basket</button>,\n",
       " <button class=\"btn btn-primary btn-block\" data-loading-text=\"Adding...\" type=\"submit\">Add to basket</button>,\n",
       " <button class=\"btn btn-primary btn-block\" data-loading-text=\"Adding...\" type=\"submit\">Add to basket</button>,\n",
       " <button class=\"btn btn-primary btn-block\" data-loading-text=\"Adding...\" type=\"submit\">Add to basket</button>,\n",
       " <button class=\"btn btn-primary btn-block\" data-loading-text=\"Adding...\" type=\"submit\">Add to basket</button>,\n",
       " <button class=\"btn btn-primary btn-block\" data-loading-text=\"Adding...\" type=\"submit\">Add to basket</button>,\n",
       " <button class=\"btn btn-primary btn-block\" data-loading-text=\"Adding...\" type=\"submit\">Add to basket</button>,\n",
       " <button class=\"btn btn-primary btn-block\" data-loading-text=\"Adding...\" type=\"submit\">Add to basket</button>,\n",
       " <button class=\"btn btn-primary btn-block\" data-loading-text=\"Adding...\" type=\"submit\">Add to basket</button>,\n",
       " <button class=\"btn btn-primary btn-block\" data-loading-text=\"Adding...\" type=\"submit\">Add to basket</button>,\n",
       " <button class=\"btn btn-primary btn-block\" data-loading-text=\"Adding...\" type=\"submit\">Add to basket</button>]"
      ]
     },
     "execution_count": 14,
     "metadata": {},
     "output_type": "execute_result"
    }
   ],
   "source": [
    "soup.select(\"button.btn-primary[data-loading-text][class*=primary]\")"
   ]
  },
  {
   "cell_type": "markdown",
   "id": "cf8733a4-e7d0-4fa6-a121-ed3240fa2ab0",
   "metadata": {},
   "source": [
    "# just one Tag"
   ]
  },
  {
   "cell_type": "code",
   "execution_count": 15,
   "id": "6a90c459-fa1d-46ad-99b2-99bdceec000a",
   "metadata": {},
   "outputs": [
    {
     "data": {
      "text/plain": [
       "[<a href=\"index.html\">Books to Scrape</a>]"
      ]
     },
     "execution_count": 15,
     "metadata": {},
     "output_type": "execute_result"
    }
   ],
   "source": [
    "#find_all vs find\n",
    "# select() vs select_one()\n",
    "\n",
    "soup.find_all(\"a\",limit=1)"
   ]
  },
  {
   "cell_type": "code",
   "execution_count": 16,
   "id": "60170c6f-0d3b-456f-a4fd-228ad2c9a4ab",
   "metadata": {},
   "outputs": [
    {
     "data": {
      "text/plain": [
       "<a href=\"index.html\">Books to Scrape</a>"
      ]
     },
     "execution_count": 16,
     "metadata": {},
     "output_type": "execute_result"
    }
   ],
   "source": [
    "soup.find(\"a\")"
   ]
  },
  {
   "cell_type": "code",
   "execution_count": 25,
   "id": "394f5ff5-228e-4ff8-8a1a-cf3291121549",
   "metadata": {},
   "outputs": [
    {
     "data": {
      "text/plain": [
       "True"
      ]
     },
     "execution_count": 25,
     "metadata": {},
     "output_type": "execute_result"
    }
   ],
   "source": [
    "soup.find_all(\"a\",limit=1)[0] is soup.find(\"a\")"
   ]
  },
  {
   "cell_type": "code",
   "execution_count": 19,
   "id": "ece78092-d45b-4da2-b187-862bf940d991",
   "metadata": {},
   "outputs": [
    {
     "data": {
      "text/plain": [
       "[<a href=\"index.html\">Books to Scrape</a>]"
      ]
     },
     "execution_count": 19,
     "metadata": {},
     "output_type": "execute_result"
    }
   ],
   "source": [
    "soup.select(\"a\",limit=1)"
   ]
  },
  {
   "cell_type": "code",
   "execution_count": 22,
   "id": "74a4bbda-291c-40dc-ad40-355065ab3d0e",
   "metadata": {},
   "outputs": [
    {
     "data": {
      "text/plain": [
       "<a href=\"index.html\">Books to Scrape</a>"
      ]
     },
     "execution_count": 22,
     "metadata": {},
     "output_type": "execute_result"
    }
   ],
   "source": [
    "soup.select_one(\"a\")"
   ]
  },
  {
   "cell_type": "code",
   "execution_count": 23,
   "id": "77f8d32d-65d5-42ba-a98f-a2d9e9bc4fbb",
   "metadata": {},
   "outputs": [
    {
     "data": {
      "text/plain": [
       "True"
      ]
     },
     "execution_count": 23,
     "metadata": {},
     "output_type": "execute_result"
    }
   ],
   "source": [
    "soup.select(\"a\",limit=1)[0] is soup.select_one(\"a\")"
   ]
  },
  {
   "cell_type": "code",
   "execution_count": null,
   "id": "87ccd16f-4bc8-43e8-b27b-0b99ba597e2a",
   "metadata": {},
   "outputs": [],
   "source": []
  },
  {
   "cell_type": "code",
   "execution_count": null,
   "id": "13756127-4782-4e99-9674-f4ec4d61565b",
   "metadata": {},
   "outputs": [],
   "source": []
  },
  {
   "cell_type": "code",
   "execution_count": null,
   "id": "1481dbb0-cb5b-44ca-b0c3-4e049b32dc3d",
   "metadata": {},
   "outputs": [],
   "source": []
  },
  {
   "cell_type": "code",
   "execution_count": null,
   "id": "45d5a351-d4a9-466f-9a62-e2fa7998f5d8",
   "metadata": {},
   "outputs": [],
   "source": []
  },
  {
   "cell_type": "code",
   "execution_count": null,
   "id": "25bfaed5-c429-4200-a48b-20d39e6ad247",
   "metadata": {},
   "outputs": [],
   "source": []
  },
  {
   "cell_type": "code",
   "execution_count": null,
   "id": "39a1d932-faa9-4c33-92e5-df8198b14847",
   "metadata": {},
   "outputs": [],
   "source": []
  },
  {
   "cell_type": "code",
   "execution_count": null,
   "id": "034c8560-cb88-4766-b051-cd425dffcdcd",
   "metadata": {},
   "outputs": [],
   "source": []
  },
  {
   "cell_type": "code",
   "execution_count": null,
   "id": "4f880b39-7197-47f2-a393-7a65f8dcf972",
   "metadata": {},
   "outputs": [],
   "source": []
  },
  {
   "cell_type": "code",
   "execution_count": null,
   "id": "6c8ff584-c5a0-4ea9-9132-2de4507a6e6d",
   "metadata": {},
   "outputs": [],
   "source": []
  },
  {
   "cell_type": "code",
   "execution_count": null,
   "id": "7ec67792-5990-4c7c-bb3b-b50e560dc460",
   "metadata": {},
   "outputs": [],
   "source": []
  },
  {
   "cell_type": "code",
   "execution_count": null,
   "id": "615f82c4-7ff8-4614-9192-c9727c3237c6",
   "metadata": {},
   "outputs": [],
   "source": []
  },
  {
   "cell_type": "code",
   "execution_count": null,
   "id": "dfd2b220-525c-4940-9a79-469e4f7e5a74",
   "metadata": {},
   "outputs": [],
   "source": []
  },
  {
   "cell_type": "code",
   "execution_count": null,
   "id": "938ce3eb-2c55-4590-8be1-3709f9f18d5e",
   "metadata": {},
   "outputs": [],
   "source": []
  },
  {
   "cell_type": "code",
   "execution_count": null,
   "id": "f3e62d83-10d1-44a9-8881-ae25a94174fa",
   "metadata": {},
   "outputs": [],
   "source": []
  },
  {
   "cell_type": "code",
   "execution_count": null,
   "id": "76b5868c-cf8b-4b78-8035-db8221da93ee",
   "metadata": {},
   "outputs": [],
   "source": []
  },
  {
   "cell_type": "code",
   "execution_count": null,
   "id": "5041e492-1df1-47c9-b027-4156b7117cb0",
   "metadata": {},
   "outputs": [],
   "source": []
  },
  {
   "cell_type": "code",
   "execution_count": null,
   "id": "77ca7594-c14a-48e2-9442-48720324aff7",
   "metadata": {},
   "outputs": [],
   "source": []
  },
  {
   "cell_type": "code",
   "execution_count": null,
   "id": "d2379fc2-6a82-4e3e-9c40-4bda52c7529b",
   "metadata": {},
   "outputs": [],
   "source": []
  },
  {
   "cell_type": "code",
   "execution_count": null,
   "id": "f561ee0c-f816-4fec-aaac-90811eef659c",
   "metadata": {},
   "outputs": [],
   "source": []
  },
  {
   "cell_type": "code",
   "execution_count": null,
   "id": "62fd59b4-6ae7-4fe8-b073-f1248c6d625e",
   "metadata": {},
   "outputs": [],
   "source": []
  },
  {
   "cell_type": "code",
   "execution_count": null,
   "id": "ee7ca331-db06-4403-8323-377e92c4f287",
   "metadata": {},
   "outputs": [],
   "source": []
  },
  {
   "cell_type": "code",
   "execution_count": null,
   "id": "198517f8-a32b-40e4-a79a-1ec9101e6737",
   "metadata": {},
   "outputs": [],
   "source": []
  },
  {
   "cell_type": "code",
   "execution_count": null,
   "id": "6b605ea5-5ff1-40f5-ba1e-fdb869d75437",
   "metadata": {},
   "outputs": [],
   "source": []
  },
  {
   "cell_type": "code",
   "execution_count": null,
   "id": "b33e2097-45ff-419a-9ab5-84a714653e8c",
   "metadata": {},
   "outputs": [],
   "source": []
  },
  {
   "cell_type": "code",
   "execution_count": null,
   "id": "3de9f066-756f-4dc3-a0ef-efc970da59cd",
   "metadata": {},
   "outputs": [],
   "source": []
  },
  {
   "cell_type": "code",
   "execution_count": null,
   "id": "f2b3349d-84b1-425a-a97b-50069847e285",
   "metadata": {},
   "outputs": [],
   "source": []
  },
  {
   "cell_type": "code",
   "execution_count": null,
   "id": "2dd47b88-bcea-4ce2-88a8-4ce78a661e00",
   "metadata": {},
   "outputs": [],
   "source": []
  },
  {
   "cell_type": "code",
   "execution_count": null,
   "id": "8c901af0-bebc-4747-b35b-674e5f75f5d4",
   "metadata": {},
   "outputs": [],
   "source": []
  },
  {
   "cell_type": "code",
   "execution_count": null,
   "id": "76e7b11c-2d0e-496f-a4bf-41e057746866",
   "metadata": {},
   "outputs": [],
   "source": []
  },
  {
   "cell_type": "code",
   "execution_count": null,
   "id": "b43dec64-978b-406b-928a-7d8a5aa4b73d",
   "metadata": {},
   "outputs": [],
   "source": []
  },
  {
   "cell_type": "code",
   "execution_count": null,
   "id": "102b93a9-d57b-44fc-85e1-6a3975234e46",
   "metadata": {},
   "outputs": [],
   "source": []
  },
  {
   "cell_type": "code",
   "execution_count": null,
   "id": "f32e1dca-e63b-4b3f-b19e-3aa8c1a57e92",
   "metadata": {},
   "outputs": [],
   "source": []
  },
  {
   "cell_type": "code",
   "execution_count": null,
   "id": "21639575-7d2a-49e9-ac71-cbd4b2d4071a",
   "metadata": {},
   "outputs": [],
   "source": []
  },
  {
   "cell_type": "code",
   "execution_count": null,
   "id": "2a3f7e42-5a7e-40da-8eaf-e5a0dfeb53ce",
   "metadata": {},
   "outputs": [],
   "source": []
  },
  {
   "cell_type": "code",
   "execution_count": null,
   "id": "76afe0d1-327b-4644-bc7a-7b6384b91968",
   "metadata": {},
   "outputs": [],
   "source": []
  },
  {
   "cell_type": "code",
   "execution_count": null,
   "id": "a5c667e7-8e9c-4b2b-98ed-9e27fe16fdb9",
   "metadata": {},
   "outputs": [],
   "source": []
  },
  {
   "cell_type": "code",
   "execution_count": null,
   "id": "2561cbca-90e4-4013-8f97-fbd2e07d5574",
   "metadata": {},
   "outputs": [],
   "source": []
  },
  {
   "cell_type": "code",
   "execution_count": null,
   "id": "27deaa6f-0ed0-4d0f-adce-43c528f7f1df",
   "metadata": {},
   "outputs": [],
   "source": []
  },
  {
   "cell_type": "code",
   "execution_count": null,
   "id": "22d8d9f1-aba3-4a5a-b11e-53da5ef1b406",
   "metadata": {},
   "outputs": [],
   "source": []
  },
  {
   "cell_type": "code",
   "execution_count": null,
   "id": "c3b15c31-39e0-44ba-adfe-727ca5e34914",
   "metadata": {},
   "outputs": [],
   "source": []
  },
  {
   "cell_type": "code",
   "execution_count": null,
   "id": "ad89acd6-e9b9-4974-9ce7-53d96c28f893",
   "metadata": {},
   "outputs": [],
   "source": []
  },
  {
   "cell_type": "code",
   "execution_count": null,
   "id": "e7b09e4c-ec78-4d92-9077-a76a91ff608d",
   "metadata": {},
   "outputs": [],
   "source": []
  },
  {
   "cell_type": "code",
   "execution_count": null,
   "id": "bc0539fe-c221-46d2-a331-40de607945b0",
   "metadata": {},
   "outputs": [],
   "source": []
  },
  {
   "cell_type": "code",
   "execution_count": null,
   "id": "9b464f94-b362-4f9c-9780-8be1c838cbd0",
   "metadata": {},
   "outputs": [],
   "source": []
  },
  {
   "cell_type": "code",
   "execution_count": null,
   "id": "4807489d-7cd6-4a81-a85a-c7cc9ac326a2",
   "metadata": {},
   "outputs": [],
   "source": []
  },
  {
   "cell_type": "code",
   "execution_count": null,
   "id": "65e83ecd-6f88-4708-977a-be9f19a67813",
   "metadata": {},
   "outputs": [],
   "source": []
  },
  {
   "cell_type": "code",
   "execution_count": null,
   "id": "dd71e388-0b03-49d1-b0b9-6b4aece51601",
   "metadata": {},
   "outputs": [],
   "source": []
  },
  {
   "cell_type": "code",
   "execution_count": null,
   "id": "6a2d1ae3-4fe1-447e-a7de-e54466af907a",
   "metadata": {},
   "outputs": [],
   "source": []
  },
  {
   "cell_type": "code",
   "execution_count": null,
   "id": "f6ce2c1e-750d-4499-b4cb-d0fb7c9836ce",
   "metadata": {},
   "outputs": [],
   "source": []
  },
  {
   "cell_type": "code",
   "execution_count": null,
   "id": "d6167efb-085c-44ce-b633-3d94a6eb0ff9",
   "metadata": {},
   "outputs": [],
   "source": []
  },
  {
   "cell_type": "code",
   "execution_count": null,
   "id": "e7fb59ef-5c8e-4f90-8552-9d9fb7aed9a6",
   "metadata": {},
   "outputs": [],
   "source": []
  },
  {
   "cell_type": "code",
   "execution_count": null,
   "id": "755517a7-77e9-436f-b9cc-790f5f26d053",
   "metadata": {},
   "outputs": [],
   "source": []
  },
  {
   "cell_type": "code",
   "execution_count": null,
   "id": "b1c9d1cb-fe7e-4226-8a26-dff35c0b7fa7",
   "metadata": {},
   "outputs": [],
   "source": []
  },
  {
   "cell_type": "code",
   "execution_count": null,
   "id": "dc96c3c3-9570-4c3f-baed-24f3da0df292",
   "metadata": {},
   "outputs": [],
   "source": []
  },
  {
   "cell_type": "code",
   "execution_count": null,
   "id": "718e25ae-971f-442b-8479-1be824444452",
   "metadata": {},
   "outputs": [],
   "source": []
  },
  {
   "cell_type": "code",
   "execution_count": null,
   "id": "5e3fbcf1-b8ab-4923-ad03-a84fcc41ac1f",
   "metadata": {},
   "outputs": [],
   "source": []
  },
  {
   "cell_type": "code",
   "execution_count": null,
   "id": "c0967f7a-2213-4a78-8ba0-1f2109708610",
   "metadata": {},
   "outputs": [],
   "source": []
  },
  {
   "cell_type": "code",
   "execution_count": null,
   "id": "c54c3eff-ef93-48c6-a2f0-516ef9c916d2",
   "metadata": {},
   "outputs": [],
   "source": []
  },
  {
   "cell_type": "code",
   "execution_count": null,
   "id": "e02a7082-3d9e-4936-b507-5b979b78b130",
   "metadata": {},
   "outputs": [],
   "source": []
  },
  {
   "cell_type": "code",
   "execution_count": null,
   "id": "d1ae65a9-c3de-4c8c-84ea-111a1f298fcb",
   "metadata": {},
   "outputs": [],
   "source": []
  },
  {
   "cell_type": "code",
   "execution_count": null,
   "id": "f1ab6fa4-ec71-401d-83f4-5d54aa35bed1",
   "metadata": {},
   "outputs": [],
   "source": []
  },
  {
   "cell_type": "code",
   "execution_count": null,
   "id": "48f91012-c389-49ce-a607-b094d9d30f2d",
   "metadata": {},
   "outputs": [],
   "source": []
  },
  {
   "cell_type": "code",
   "execution_count": null,
   "id": "c04cfc63-e104-4258-8fd2-55655af350a0",
   "metadata": {},
   "outputs": [],
   "source": []
  },
  {
   "cell_type": "code",
   "execution_count": null,
   "id": "1f98990a-6b47-4dce-9ae4-4e3272ab9996",
   "metadata": {},
   "outputs": [],
   "source": []
  },
  {
   "cell_type": "code",
   "execution_count": null,
   "id": "a0989796-e3dc-433b-a206-a8940d7240a4",
   "metadata": {},
   "outputs": [],
   "source": []
  },
  {
   "cell_type": "code",
   "execution_count": null,
   "id": "3f9da922-94ba-457e-a8a2-8762ec32652c",
   "metadata": {},
   "outputs": [],
   "source": []
  },
  {
   "cell_type": "code",
   "execution_count": null,
   "id": "80d722d5-e013-4bdf-a42c-0a7434ff6f54",
   "metadata": {},
   "outputs": [],
   "source": []
  },
  {
   "cell_type": "code",
   "execution_count": null,
   "id": "888abe64-8fcf-4a50-9395-ffcbab9265f9",
   "metadata": {},
   "outputs": [],
   "source": []
  },
  {
   "cell_type": "code",
   "execution_count": null,
   "id": "0eac3c78-74be-40e1-9dd9-26dab65c290c",
   "metadata": {},
   "outputs": [],
   "source": []
  },
  {
   "cell_type": "code",
   "execution_count": null,
   "id": "50e2afd1-b132-4499-bd16-e9033fa68e74",
   "metadata": {},
   "outputs": [],
   "source": []
  },
  {
   "cell_type": "code",
   "execution_count": null,
   "id": "a04eb124-ceda-4044-bbf6-03a2dec97196",
   "metadata": {},
   "outputs": [],
   "source": []
  },
  {
   "cell_type": "code",
   "execution_count": null,
   "id": "fdc8acc8-fbf4-4bd7-a3ef-b93ce07f0f3e",
   "metadata": {},
   "outputs": [],
   "source": []
  },
  {
   "cell_type": "code",
   "execution_count": null,
   "id": "e5df47b6-aa07-4f44-9a46-6e39eec662bd",
   "metadata": {},
   "outputs": [],
   "source": []
  },
  {
   "cell_type": "code",
   "execution_count": null,
   "id": "369484a4-e170-4075-aa20-eb54728273dd",
   "metadata": {},
   "outputs": [],
   "source": []
  },
  {
   "cell_type": "code",
   "execution_count": null,
   "id": "24ad2cca-fc24-4d94-b8a4-56b0533b6f66",
   "metadata": {},
   "outputs": [],
   "source": []
  },
  {
   "cell_type": "code",
   "execution_count": null,
   "id": "e3c51014-0a9d-46d4-a00d-01fb6d82085e",
   "metadata": {},
   "outputs": [],
   "source": []
  },
  {
   "cell_type": "code",
   "execution_count": null,
   "id": "50f2f7c1-f544-4007-b79d-6b7db284a6a3",
   "metadata": {},
   "outputs": [],
   "source": []
  },
  {
   "cell_type": "code",
   "execution_count": null,
   "id": "2f53764c-4624-455d-b2cb-eb5b5a7f1739",
   "metadata": {},
   "outputs": [],
   "source": []
  },
  {
   "cell_type": "code",
   "execution_count": null,
   "id": "bc454769-ff40-4c8e-8161-d52ba8763624",
   "metadata": {},
   "outputs": [],
   "source": []
  },
  {
   "cell_type": "code",
   "execution_count": null,
   "id": "2f2cd7ce-bcfc-4a56-b154-c6a714ee7f81",
   "metadata": {},
   "outputs": [],
   "source": []
  },
  {
   "cell_type": "code",
   "execution_count": null,
   "id": "39a5d9e3-8035-4b38-a48e-8aa404fdf419",
   "metadata": {},
   "outputs": [],
   "source": []
  },
  {
   "cell_type": "code",
   "execution_count": null,
   "id": "7c58bc5a-54b5-496c-811c-277da7a7633e",
   "metadata": {},
   "outputs": [],
   "source": []
  },
  {
   "cell_type": "code",
   "execution_count": null,
   "id": "49eb850f-e21c-4eef-aebb-da85f28a64db",
   "metadata": {},
   "outputs": [],
   "source": []
  },
  {
   "cell_type": "code",
   "execution_count": null,
   "id": "8dce0f4c-70d7-4799-ab0e-22d03ff3447a",
   "metadata": {},
   "outputs": [],
   "source": []
  },
  {
   "cell_type": "code",
   "execution_count": null,
   "id": "f07eb419-a2bb-4ab5-83d8-975c0a22bfae",
   "metadata": {},
   "outputs": [],
   "source": []
  },
  {
   "cell_type": "code",
   "execution_count": null,
   "id": "12540df7-147a-4a1e-999f-beaa0e6a9e9f",
   "metadata": {},
   "outputs": [],
   "source": []
  },
  {
   "cell_type": "code",
   "execution_count": null,
   "id": "e0716f9e-b620-4112-b765-daa7d412255d",
   "metadata": {},
   "outputs": [],
   "source": []
  },
  {
   "cell_type": "code",
   "execution_count": null,
   "id": "a01e918b-85a3-46cc-bef9-7c2ec27059d3",
   "metadata": {},
   "outputs": [],
   "source": []
  },
  {
   "cell_type": "code",
   "execution_count": null,
   "id": "5ff9da45-fdc6-4562-8d36-0ddfaf7857a0",
   "metadata": {},
   "outputs": [],
   "source": []
  },
  {
   "cell_type": "code",
   "execution_count": null,
   "id": "95dfaf98-9ff6-485d-8a25-1c5b74038f16",
   "metadata": {},
   "outputs": [],
   "source": []
  },
  {
   "cell_type": "code",
   "execution_count": null,
   "id": "d7bd2ae4-0742-49fe-8895-8b1b4e2b0f2b",
   "metadata": {},
   "outputs": [],
   "source": []
  },
  {
   "cell_type": "code",
   "execution_count": null,
   "id": "7130299c-983f-4d77-9a92-237a4c08c884",
   "metadata": {},
   "outputs": [],
   "source": []
  },
  {
   "cell_type": "code",
   "execution_count": null,
   "id": "ec6f55ec-6e52-4a4d-b97e-0ebfc8eda579",
   "metadata": {},
   "outputs": [],
   "source": []
  },
  {
   "cell_type": "code",
   "execution_count": null,
   "id": "a96ce05c-4509-48b4-b58a-fb4fc264896d",
   "metadata": {},
   "outputs": [],
   "source": []
  },
  {
   "cell_type": "code",
   "execution_count": null,
   "id": "6a822746-eb40-4aeb-b406-6755688e7c48",
   "metadata": {},
   "outputs": [],
   "source": []
  },
  {
   "cell_type": "code",
   "execution_count": null,
   "id": "30f646ec-d0f5-4552-9593-29c8f01ac9b5",
   "metadata": {},
   "outputs": [],
   "source": []
  },
  {
   "cell_type": "code",
   "execution_count": null,
   "id": "b0f0b6f8-ffab-4787-8b28-381aeeb966a6",
   "metadata": {},
   "outputs": [],
   "source": []
  },
  {
   "cell_type": "code",
   "execution_count": null,
   "id": "cbf95281-059a-4732-b6a2-94b44a18084c",
   "metadata": {},
   "outputs": [],
   "source": []
  },
  {
   "cell_type": "code",
   "execution_count": null,
   "id": "b2042b62-1979-4bfa-9c40-7fd479052be7",
   "metadata": {},
   "outputs": [],
   "source": []
  },
  {
   "cell_type": "code",
   "execution_count": null,
   "id": "9625fba2-a264-488a-91cf-daccbb2f9c60",
   "metadata": {},
   "outputs": [],
   "source": []
  },
  {
   "cell_type": "code",
   "execution_count": null,
   "id": "e6502b5f-0caf-4523-a384-2634f381c9b8",
   "metadata": {},
   "outputs": [],
   "source": []
  },
  {
   "cell_type": "code",
   "execution_count": null,
   "id": "687af3be-ec61-40a7-ad39-8959d6d89eff",
   "metadata": {},
   "outputs": [],
   "source": []
  },
  {
   "cell_type": "code",
   "execution_count": null,
   "id": "f8a53bbd-fc78-43ea-bb02-0659762876c4",
   "metadata": {},
   "outputs": [],
   "source": []
  },
  {
   "cell_type": "code",
   "execution_count": null,
   "id": "751173ec-43b3-4966-9726-8ec9e10897d5",
   "metadata": {},
   "outputs": [],
   "source": []
  },
  {
   "cell_type": "code",
   "execution_count": null,
   "id": "b01b7ba4-2bfa-4417-936f-8760079d3dd2",
   "metadata": {},
   "outputs": [],
   "source": []
  },
  {
   "cell_type": "code",
   "execution_count": null,
   "id": "e5f8ab26-fdbe-4bb4-aebd-8b746ae247c5",
   "metadata": {},
   "outputs": [],
   "source": []
  },
  {
   "cell_type": "code",
   "execution_count": null,
   "id": "5db9df7f-49e6-4bcb-be52-f16e455565a4",
   "metadata": {},
   "outputs": [],
   "source": []
  },
  {
   "cell_type": "code",
   "execution_count": null,
   "id": "b0ce3973-d2bc-4b86-8640-78e32ddf85bc",
   "metadata": {},
   "outputs": [],
   "source": []
  },
  {
   "cell_type": "code",
   "execution_count": null,
   "id": "29aa836e-7304-48d3-9e2a-f7ce235e0edf",
   "metadata": {},
   "outputs": [],
   "source": []
  },
  {
   "cell_type": "code",
   "execution_count": null,
   "id": "361be4bf-bec1-4934-bae2-1974ea974335",
   "metadata": {},
   "outputs": [],
   "source": []
  },
  {
   "cell_type": "code",
   "execution_count": null,
   "id": "f1aec641-9ebe-4d61-82b0-a9d3d4168c28",
   "metadata": {},
   "outputs": [],
   "source": []
  },
  {
   "cell_type": "code",
   "execution_count": null,
   "id": "24656c39-8807-4d11-90f7-4e452f4f69de",
   "metadata": {},
   "outputs": [],
   "source": []
  }
 ],
 "metadata": {
  "kernelspec": {
   "display_name": "Python 3 (ipykernel)",
   "language": "python",
   "name": "python3"
  },
  "language_info": {
   "codemirror_mode": {
    "name": "ipython",
    "version": 3
   },
   "file_extension": ".py",
   "mimetype": "text/x-python",
   "name": "python",
   "nbconvert_exporter": "python",
   "pygments_lexer": "ipython3",
   "version": "3.13.0"
  }
 },
 "nbformat": 4,
 "nbformat_minor": 5
}
