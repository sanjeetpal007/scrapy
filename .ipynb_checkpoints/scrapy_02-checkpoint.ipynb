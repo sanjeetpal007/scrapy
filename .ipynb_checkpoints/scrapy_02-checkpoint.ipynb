{
 "cells": [
  {
   "cell_type": "code",
   "execution_count": 1,
   "id": "649ccd03-80a6-40b1-ab42-28c220c9d4c6",
   "metadata": {},
   "outputs": [
    {
     "name": "stdout",
     "output_type": "stream",
     "text": [
      "hello\n"
     ]
    }
   ],
   "source": [
    "print(\"hello\")"
   ]
  },
  {
   "cell_type": "code",
   "execution_count": 4,
   "id": "835f2758-e8ae-4c1f-aa29-600d6d5314f5",
   "metadata": {},
   "outputs": [],
   "source": [
    "import requests as r\n",
    "from bs4 import BeautifulSoup\n"
   ]
  },
  {
   "cell_type": "code",
   "execution_count": 13,
   "id": "11750d9b-fbc2-4248-b87d-1d234bcaf622",
   "metadata": {},
   "outputs": [
    {
     "name": "stdout",
     "output_type": "stream",
     "text": [
      "{'ticker': 'SHOP', 'exchange': 'TSE', 'price': 149.48, 'currency': 'CAD'}\n"
     ]
    }
   ],
   "source": [
    "#\"https://www.google.com/finance/quote/MSFT:NASDAQ\"\n",
    "# True is some value is available\n",
    "def get_fx\n",
    "\n",
    "def get_price_information(ticker,exchange):\n",
    "    url = f\"https://www.google.com/finance/quote/{ticker}:{exchange}\"\n",
    "    resp=r.get(url)\n",
    "    #soup=BeautifulSoup(resp.content)\n",
    "    soup=BeautifulSoup(resp.content,\"html.parser\")\n",
    "    price_div=soup.find(\"div\",attrs={\"data-last-price\":True})\n",
    "    price=float(price_div[\"data-last-price\"])\n",
    "    currency=price_div[\"data-currency-code\"]\n",
    "   # return price_div\n",
    "    return{\n",
    "        \"ticker\": ticker,\n",
    "        \"exchange\": exchange,\n",
    "        \"price\": price,\n",
    "        \"currency\": currency\n",
    "    }\n",
    "if __name__==\"__main__\":\n",
    "    #print(get_price_information(\"MSFT\",\"NASDAQ\").prettify())\n",
    "    print(get_price_information(\"SHOP\", \"TSE\"))\n",
    "    \n"
   ]
  },
  {
   "cell_type": "code",
   "execution_count": 20,
   "id": "71a42aa4-f9d8-47d6-9dee-e38399aacbb2",
   "metadata": {},
   "outputs": [
    {
     "name": "stdout",
     "output_type": "stream",
     "text": [
      "{'ticker': 'SHOP', 'exchange': 'TSE', 'price': 149.48, 'currency': 'CAD', 'usd_price': 107}\n",
      "{'ticker': 'SHOP', 'exchange': 'NYSE', 'price': 106.96, 'currency': 'USD', 'usd_price': 106.96}\n",
      "{'ticker': 'SHOP', 'exchange': 'TSE', 'price': 149.48, 'currency': 'CAD', 'usd_price': 107}\n",
      "1.04182945\n"
     ]
    }
   ],
   "source": [
    "# showing the price in USD\n",
    "def get_fx_to_usd(currency):\n",
    "    fx_url=f\"https://www.google.com/finance/quote/{currency}-USD\"\n",
    "    resp=r.get(fx_url)\n",
    "    soup=BeautifulSoup(resp.content,\"html.parser\")\n",
    "    fx_rate=soup.find(\"div\",attrs={\"data-last-price\":True})\n",
    "    fx=float(fx_rate[\"data-last-price\"]) # give me the value that data-last-price point to\n",
    "    return fx\n",
    "\n",
    "def get_price_information(ticker,exchange):\n",
    "    url = f\"https://www.google.com/finance/quote/{ticker}:{exchange}\"\n",
    "    resp=r.get(url)\n",
    "    #soup=BeautifulSoup(resp.content)\n",
    "    soup=BeautifulSoup(resp.content,\"html.parser\")\n",
    "    price_div=soup.find(\"div\",attrs={\"data-last-price\":True})\n",
    "    price=float(price_div[\"data-last-price\"])\n",
    "    currency=price_div[\"data-currency-code\"]\n",
    "    \n",
    "    usd_price=price\n",
    "    if currency !=\"USD\":\n",
    "        fx=get_fx_to_usd(currency)\n",
    "        usd_price=round(price*fx)\n",
    "   # return price_div\n",
    "    return{\n",
    "        \"ticker\": ticker,\n",
    "        \"exchange\": exchange,\n",
    "        \"price\": price,\n",
    "        \"currency\": currency,\n",
    "        \"usd_price\": usd_price\n",
    "    }\n",
    "if __name__==\"__main__\":\n",
    "    #print(get_price_information(\"MSFT\",\"NASDAQ\").prettify())\n",
    "    print(get_price_information(\"SHOP\", \"TSE\"))\n",
    "    print(get_price_information(\"SHOP\", \"NYSE\"))\n",
    "    print(get_price_information(\"SHOP\", \"TSE\"))\n",
    "    print(get_fx_to_usd(\"EUR\"))"
   ]
  },
  {
   "cell_type": "code",
   "execution_count": 46,
   "id": "3a950e6b-d280-404a-b462-78953d63505e",
   "metadata": {},
   "outputs": [
    {
     "name": "stdout",
     "output_type": "stream",
     "text": [
      "{'ticker': 'SHOP', 'exchange': 'NYSE', 'price': 106.96, 'currency': 'USD', 'usd_price': 106.96}\n",
      "107\n",
      "417.0\n",
      "164.76\n",
      "6846.799999999999\n"
     ]
    }
   ],
   "source": [
    "import requests as r\n",
    "from bs4 import BeautifulSoup\n",
    "from dataclasses import dataclass\n",
    "\n",
    "@dataclass\n",
    "class Stock:\n",
    "    ticker: str\n",
    "    exchange: str\n",
    "    price: float = 0\n",
    "    currency: str = \"USD\"\n",
    "    usd_price :float = 0\n",
    "    def __post_init__(self):\n",
    "        price_info = get_price_information(self.ticker,self.exchange)\n",
    "        self.price=price_info[\"price\"]\n",
    "        self.currency=price_info[\"currency\"]\n",
    "        self.usd_price=price_info[\"usd_price\"]\n",
    "\n",
    "@dataclass\n",
    "class Position:\n",
    "    stock: Stock\n",
    "    quantity: int\n",
    "\n",
    "@dataclass \n",
    "class Portfolio:\n",
    "    positions: list[Position]\n",
    "\n",
    "    def get_total_value(self):\n",
    "        total_value=0\n",
    "        for position in self.positions:\n",
    "            print(position.stock.usd_price)\n",
    "            total_value += position.quantity * position.stock.usd_price\n",
    "        return total_value\n",
    "\n",
    "def get_fx_to_usd(currency):\n",
    "    fx_url=f\"https://www.google.com/finance/quote/{currency}-USD\"\n",
    "    resp=r.get(fx_url)\n",
    "    soup=BeautifulSoup(resp.content,\"html.parser\")\n",
    "    fx_rate=soup.find(\"div\",attrs={\"data-last-price\":True})\n",
    "    fx=float(fx_rate[\"data-last-price\"]) # give me the value that data-last-price point to\n",
    "    return fx\n",
    "\n",
    "def get_price_information(ticker,exchange):\n",
    "    url = f\"https://www.google.com/finance/quote/{ticker}:{exchange}\"\n",
    "    resp=r.get(url)\n",
    "    #soup=BeautifulSoup(resp.content)\n",
    "    soup=BeautifulSoup(resp.content,\"html.parser\")\n",
    "    price_div=soup.find(\"div\",attrs={\"data-last-price\":True})\n",
    "    price=float(price_div[\"data-last-price\"])\n",
    "    currency=price_div[\"data-currency-code\"]\n",
    "    \n",
    "    usd_price=price\n",
    "    if currency !=\"USD\":\n",
    "        fx=get_fx_to_usd(currency)\n",
    "        usd_price=round(price*fx)\n",
    "   # return price_div\n",
    "    return{\n",
    "        \"ticker\": ticker,\n",
    "        \"exchange\": exchange,\n",
    "        \"price\": price,\n",
    "        \"currency\": currency,\n",
    "        \"usd_price\": usd_price\n",
    "    }\n",
    "if __name__==\"__main__\":\n",
    "    #print(get_price_information(\"MSFT\",\"NASDAQ\").prettify())\n",
    "    #print(get_price_information(\"SHOP\", \"TSE\"))\n",
    "    print(get_price_information(\"SHOP\", \"NYSE\"))\n",
    "    #print(get_price_information(\"SHOP\", \"TSE\"))\n",
    "   # print(get_fx_to_usd(\"EUR\"))\n",
    "    shop= Stock(\"SHOP\",\"TSE\")\n",
    "    msft=Stock(\"MSFT\",\"NASDAQ\")\n",
    "    googl=Stock(\"GOOGL\",\"NASDAQ\")\n",
    "    portfolio= Portfolio([Position(shop,10),Position(msft,2),Position(googl,30 )])\n",
    "    print(portfolio.get_total_value())\n",
    "    #print(Position(shop,10))\n",
    "    "
   ]
  },
  {
   "cell_type": "code",
   "execution_count": 56,
   "id": "26332722-75fe-489c-ad4b-b5075b8e0167",
   "metadata": {},
   "outputs": [
    {
     "name": "stdout",
     "output_type": "stream",
     "text": [
      "{'ticker': 'SHOP', 'exchange': 'NYSE', 'price': 106.96, 'currency': 'USD', 'usd_price': 106.96}\n",
      "107\n",
      "417.0\n",
      "164.76\n",
      "6846.799999999999\n",
      "107\n",
      "417.0\n",
      "164.76\n",
      "+----------+------------+------------+---------+----------------+----------------+\n",
      "| Ticker   | Exchange   |   Quantity |   price |   Market value |   % Allocation |\n",
      "|----------+------------+------------+---------+----------------+----------------|\n",
      "| GOOGL    | NASDAQ     |         30 |  164.76 |        4942.80 |          72.19 |\n",
      "| SHOP     | TSE        |         10 |  107.00 |        1070.00 |          15.63 |\n",
      "| MSFT     | NASDAQ     |          2 |  417.00 |         834.00 |          12.18 |\n",
      "+----------+------------+------------+---------+----------------+----------------+\n",
      "Total portfolio value: {portfolio_value:,.2f}\n"
     ]
    }
   ],
   "source": [
    "import requests as r\n",
    "from bs4 import BeautifulSoup\n",
    "from dataclasses import dataclass\n",
    "from tabulate import tabulate\n",
    "\n",
    "@dataclass\n",
    "class Stock:\n",
    "    ticker: str\n",
    "    exchange: str\n",
    "    price: float = 0\n",
    "    currency: str = \"USD\"\n",
    "    usd_price :float = 0\n",
    "    def __post_init__(self):\n",
    "        price_info = get_price_information(self.ticker,self.exchange)\n",
    "        self.price=price_info[\"price\"]\n",
    "        self.currency=price_info[\"currency\"]\n",
    "        self.usd_price=price_info[\"usd_price\"]\n",
    "\n",
    "@dataclass\n",
    "class Position:\n",
    "    stock: Stock\n",
    "    quantity: int\n",
    "\n",
    "@dataclass \n",
    "class Portfolio:\n",
    "    positions: list[Position]\n",
    "\n",
    "    def get_total_value(self):\n",
    "        total_value=0\n",
    "        for position in self.positions:\n",
    "            print(position.stock.usd_price)\n",
    "            total_value += position.quantity * position.stock.usd_price\n",
    "        return total_value\n",
    "\n",
    "def get_fx_to_usd(currency):\n",
    "    fx_url=f\"https://www.google.com/finance/quote/{currency}-USD\"\n",
    "    resp=r.get(fx_url)\n",
    "    soup=BeautifulSoup(resp.content,\"html.parser\")\n",
    "    fx_rate=soup.find(\"div\",attrs={\"data-last-price\":True})\n",
    "    fx=float(fx_rate[\"data-last-price\"]) # give me the value that data-last-price point to\n",
    "    return fx\n",
    "\n",
    "def get_price_information(ticker,exchange):\n",
    "    url = f\"https://www.google.com/finance/quote/{ticker}:{exchange}\"\n",
    "    resp=r.get(url)\n",
    "    #soup=BeautifulSoup(resp.content)\n",
    "    soup=BeautifulSoup(resp.content,\"html.parser\")\n",
    "    price_div=soup.find(\"div\",attrs={\"data-last-price\":True})\n",
    "    price=float(price_div[\"data-last-price\"])\n",
    "    currency=price_div[\"data-currency-code\"]\n",
    "    \n",
    "    usd_price=price\n",
    "    if currency !=\"USD\":\n",
    "        fx=get_fx_to_usd(currency)\n",
    "        usd_price=round(price*fx)\n",
    "   # return price_div\n",
    "    return{\n",
    "        \"ticker\": ticker,\n",
    "        \"exchange\": exchange,\n",
    "        \"price\": price,\n",
    "        \"currency\": currency,\n",
    "        \"usd_price\": usd_price\n",
    "    }\n",
    "def display_portfolio_summary(portfolio):\n",
    "    if not isinstance(portfolio,Portfolio):\n",
    "        raise TypeError(\"Please procide an instance of the Porfolio\")\n",
    "    portfolio_value=portfolio.get_total_value()\n",
    "    position_data=[]\n",
    "    for position in sorted(portfolio.positions,key=lambda x:x.quantity * x.stock.usd_price,\n",
    "                          reverse=True\n",
    "                          ):\n",
    "        position_data.append([\n",
    "            position.stock.ticker,\n",
    "            position.stock.exchange,\n",
    "            position.quantity,\n",
    "            position.stock.usd_price,\n",
    "            position.quantity * position.stock.usd_price,\n",
    "            position.quantity * position.stock.usd_price / portfolio_value * 100\n",
    "            \n",
    "        ])\n",
    "    print(tabulate(position_data,\n",
    "                   headers = [\"Ticker\",\"Exchange\",\"Quantity\",\"price\",\"Market value\",\"% Allocation\"],\n",
    "                   tablefmt = \"psql\",\n",
    "                   floatfmt=\".2f\"\n",
    "                  \n",
    "                  ))\n",
    "    print(\"Total portfolio value: {portfolio_value:,.2f}\")\n",
    "if __name__==\"__main__\":\n",
    "    #print(get_price_information(\"MSFT\",\"NASDAQ\").prettify())\n",
    "    #print(get_price_information(\"SHOP\", \"TSE\"))\n",
    "    print(get_price_information(\"SHOP\", \"NYSE\"))\n",
    "    #print(get_price_information(\"SHOP\", \"TSE\"))\n",
    "   # print(get_fx_to_usd(\"EUR\"))\n",
    "    shop= Stock(\"SHOP\",\"TSE\")\n",
    "    msft=Stock(\"MSFT\",\"NASDAQ\")\n",
    "    googl=Stock(\"GOOGL\",\"NASDAQ\")\n",
    "    portfolio= Portfolio([Position(shop,10),Position(msft,2),Position(googl,30 )])\n",
    "    print(portfolio.get_total_value())\n",
    "    #print(Position(shop,10))\n",
    "    #stock->postion-> Portfolio\n",
    "\n",
    "    display_portfolio_summary(portfolio)\n",
    "    \n",
    "    "
   ]
  },
  {
   "cell_type": "code",
   "execution_count": null,
   "id": "7704295a-1b81-45f7-9066-a466efd14ff9",
   "metadata": {},
   "outputs": [],
   "source": []
  },
  {
   "cell_type": "code",
   "execution_count": null,
   "id": "27385011-dad9-4324-b345-3fdcc074dc77",
   "metadata": {},
   "outputs": [],
   "source": []
  },
  {
   "cell_type": "code",
   "execution_count": null,
   "id": "43b194ea-8270-470a-a8a0-13578c62e8c0",
   "metadata": {},
   "outputs": [],
   "source": []
  },
  {
   "cell_type": "code",
   "execution_count": null,
   "id": "83b1417f-af96-4cc2-9e28-41412a63b673",
   "metadata": {},
   "outputs": [],
   "source": []
  },
  {
   "cell_type": "code",
   "execution_count": null,
   "id": "d5f910b7-f7d7-467a-b14d-4514274f4eb4",
   "metadata": {},
   "outputs": [],
   "source": []
  },
  {
   "cell_type": "code",
   "execution_count": null,
   "id": "3123a3a7-0980-487e-99b8-260083dd7b27",
   "metadata": {},
   "outputs": [],
   "source": []
  },
  {
   "cell_type": "code",
   "execution_count": null,
   "id": "0fd7d5e8-07db-448f-921b-a242bec0b0f1",
   "metadata": {},
   "outputs": [],
   "source": []
  },
  {
   "cell_type": "code",
   "execution_count": null,
   "id": "6ffa5a59-277c-457e-8ed8-d1392b27619d",
   "metadata": {},
   "outputs": [],
   "source": []
  },
  {
   "cell_type": "code",
   "execution_count": null,
   "id": "1587e1b4-3101-404f-bc0d-cab7d0b5f91f",
   "metadata": {},
   "outputs": [],
   "source": []
  },
  {
   "cell_type": "code",
   "execution_count": null,
   "id": "e5166cf5-5a4a-40be-bf25-8ae2393eb00a",
   "metadata": {},
   "outputs": [],
   "source": []
  },
  {
   "cell_type": "code",
   "execution_count": null,
   "id": "a5796bcf-0a17-4cb2-8bd2-a168f6beeb73",
   "metadata": {},
   "outputs": [],
   "source": []
  },
  {
   "cell_type": "code",
   "execution_count": null,
   "id": "1ec70eaa-2c0b-4469-8b7e-0d3d7f6923ce",
   "metadata": {},
   "outputs": [],
   "source": []
  },
  {
   "cell_type": "code",
   "execution_count": null,
   "id": "a1f9737f-99df-4899-8dc4-d86b360a893e",
   "metadata": {},
   "outputs": [],
   "source": []
  },
  {
   "cell_type": "code",
   "execution_count": null,
   "id": "604b60e0-7a34-48d1-abe1-616692127e85",
   "metadata": {},
   "outputs": [],
   "source": []
  },
  {
   "cell_type": "code",
   "execution_count": null,
   "id": "b6086224-0340-479a-b464-c92c9e00b741",
   "metadata": {},
   "outputs": [],
   "source": []
  },
  {
   "cell_type": "code",
   "execution_count": null,
   "id": "1c070e38-a892-4a1e-8263-c2405fb698cf",
   "metadata": {},
   "outputs": [],
   "source": []
  },
  {
   "cell_type": "code",
   "execution_count": null,
   "id": "277c805c-6709-45d8-9ca7-280192641da0",
   "metadata": {},
   "outputs": [],
   "source": []
  },
  {
   "cell_type": "code",
   "execution_count": null,
   "id": "831411e3-c468-486a-bef1-59d56e3f47bd",
   "metadata": {},
   "outputs": [],
   "source": []
  },
  {
   "cell_type": "code",
   "execution_count": null,
   "id": "f0b6372d-d682-4275-aa39-896f7b2b3634",
   "metadata": {},
   "outputs": [],
   "source": []
  },
  {
   "cell_type": "code",
   "execution_count": null,
   "id": "c84a8b58-e27f-4bc5-9980-2c3437410de0",
   "metadata": {},
   "outputs": [],
   "source": []
  },
  {
   "cell_type": "code",
   "execution_count": null,
   "id": "3d6c12c6-5810-4689-b9eb-a3a56e8f1a14",
   "metadata": {},
   "outputs": [],
   "source": []
  },
  {
   "cell_type": "code",
   "execution_count": null,
   "id": "09ef378c-f1fa-4263-859c-7ada7d33614b",
   "metadata": {},
   "outputs": [],
   "source": []
  },
  {
   "cell_type": "code",
   "execution_count": null,
   "id": "8ec6e3ee-b574-42ac-b986-07d519f3397c",
   "metadata": {},
   "outputs": [],
   "source": []
  },
  {
   "cell_type": "code",
   "execution_count": null,
   "id": "e5d80f75-9957-4a2d-84f2-c2f1c6cc9097",
   "metadata": {},
   "outputs": [],
   "source": []
  },
  {
   "cell_type": "code",
   "execution_count": null,
   "id": "ac2d4c23-87c1-48e5-8e59-7cf20db81af0",
   "metadata": {},
   "outputs": [],
   "source": []
  },
  {
   "cell_type": "code",
   "execution_count": null,
   "id": "8927d96f-b1c4-49fe-b3a7-cce3523fdf6d",
   "metadata": {},
   "outputs": [],
   "source": []
  },
  {
   "cell_type": "code",
   "execution_count": null,
   "id": "e413b1b4-10b3-4add-abff-72e54fa5663a",
   "metadata": {},
   "outputs": [],
   "source": []
  },
  {
   "cell_type": "code",
   "execution_count": null,
   "id": "2fc88038-dffe-43dd-b730-b1b4c4922e65",
   "metadata": {},
   "outputs": [],
   "source": []
  },
  {
   "cell_type": "code",
   "execution_count": null,
   "id": "29697760-f326-47c1-aa6a-6d656942a521",
   "metadata": {},
   "outputs": [],
   "source": []
  },
  {
   "cell_type": "code",
   "execution_count": null,
   "id": "4916b511-8f50-45b5-a979-d2867b5cc468",
   "metadata": {},
   "outputs": [],
   "source": []
  },
  {
   "cell_type": "code",
   "execution_count": null,
   "id": "763d9315-e5e4-44ad-b741-6c31be812aa8",
   "metadata": {},
   "outputs": [],
   "source": []
  },
  {
   "cell_type": "code",
   "execution_count": null,
   "id": "e5766b8a-d980-421c-88ab-0b25e457971a",
   "metadata": {},
   "outputs": [],
   "source": []
  },
  {
   "cell_type": "code",
   "execution_count": null,
   "id": "c2f9c30b-50f1-45ff-8654-a042a2494522",
   "metadata": {},
   "outputs": [],
   "source": []
  },
  {
   "cell_type": "code",
   "execution_count": null,
   "id": "036a1b1f-b81e-409c-9424-2518c2e8911a",
   "metadata": {},
   "outputs": [],
   "source": []
  },
  {
   "cell_type": "code",
   "execution_count": null,
   "id": "be5e8253-a9b9-4e68-9c23-f07a2b502d16",
   "metadata": {},
   "outputs": [],
   "source": []
  },
  {
   "cell_type": "code",
   "execution_count": null,
   "id": "8e6a9384-243b-47d9-8f01-164660192ef5",
   "metadata": {},
   "outputs": [],
   "source": []
  },
  {
   "cell_type": "code",
   "execution_count": null,
   "id": "e26db894-952d-4003-aba6-528a417efcfd",
   "metadata": {},
   "outputs": [],
   "source": []
  },
  {
   "cell_type": "code",
   "execution_count": null,
   "id": "375c99ed-5a6b-4cc7-b65c-2d8c41ae1cbf",
   "metadata": {},
   "outputs": [],
   "source": []
  },
  {
   "cell_type": "code",
   "execution_count": null,
   "id": "13687c6a-9fde-42a7-b0d8-9b3e8e718cac",
   "metadata": {},
   "outputs": [],
   "source": []
  },
  {
   "cell_type": "code",
   "execution_count": null,
   "id": "633469c5-4767-44ab-931b-7009a443163c",
   "metadata": {},
   "outputs": [],
   "source": []
  },
  {
   "cell_type": "code",
   "execution_count": null,
   "id": "ee58ce0a-ec77-47cd-b7d9-7f5db8c5f0c5",
   "metadata": {},
   "outputs": [],
   "source": []
  },
  {
   "cell_type": "code",
   "execution_count": null,
   "id": "cb7af06f-b8c6-4375-92cc-622262cf7390",
   "metadata": {},
   "outputs": [],
   "source": []
  },
  {
   "cell_type": "code",
   "execution_count": null,
   "id": "d7f93e93-6129-47ab-9a9c-fec2851ec4c0",
   "metadata": {},
   "outputs": [],
   "source": []
  },
  {
   "cell_type": "code",
   "execution_count": null,
   "id": "ddae9e9e-a390-4bc4-81df-fafc465ef1db",
   "metadata": {},
   "outputs": [],
   "source": []
  },
  {
   "cell_type": "code",
   "execution_count": null,
   "id": "fd736231-6f42-4559-9f99-a0d9f1028e54",
   "metadata": {},
   "outputs": [],
   "source": []
  },
  {
   "cell_type": "code",
   "execution_count": null,
   "id": "09c0961b-e18d-40d0-bdf2-93b852fbad8d",
   "metadata": {},
   "outputs": [],
   "source": []
  },
  {
   "cell_type": "code",
   "execution_count": null,
   "id": "6d3bb7f1-b315-446a-aa2e-0124d9ead429",
   "metadata": {},
   "outputs": [],
   "source": []
  },
  {
   "cell_type": "code",
   "execution_count": null,
   "id": "f5c931a3-6f66-44b4-9714-4039d76b5147",
   "metadata": {},
   "outputs": [],
   "source": []
  },
  {
   "cell_type": "code",
   "execution_count": null,
   "id": "1483cec4-cf22-4c97-90c2-6fbf54e4d389",
   "metadata": {},
   "outputs": [],
   "source": []
  },
  {
   "cell_type": "code",
   "execution_count": null,
   "id": "95bd8fa6-4516-4449-ab1f-6967a1cae431",
   "metadata": {},
   "outputs": [],
   "source": []
  },
  {
   "cell_type": "code",
   "execution_count": null,
   "id": "30770185-c74c-45b3-9c51-e7c92f944d3f",
   "metadata": {},
   "outputs": [],
   "source": []
  }
 ],
 "metadata": {
  "kernelspec": {
   "display_name": "Python 3 (ipykernel)",
   "language": "python",
   "name": "python3"
  },
  "language_info": {
   "codemirror_mode": {
    "name": "ipython",
    "version": 3
   },
   "file_extension": ".py",
   "mimetype": "text/x-python",
   "name": "python",
   "nbconvert_exporter": "python",
   "pygments_lexer": "ipython3",
   "version": "3.13.0"
  }
 },
 "nbformat": 4,
 "nbformat_minor": 5
}
