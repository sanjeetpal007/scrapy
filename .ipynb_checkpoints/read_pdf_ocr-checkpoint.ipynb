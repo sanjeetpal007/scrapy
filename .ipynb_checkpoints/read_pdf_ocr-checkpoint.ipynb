{
 "cells": [
  {
   "cell_type": "code",
   "execution_count": 2,
   "id": "191761fa-6471-4686-b651-596e16d0b975",
   "metadata": {},
   "outputs": [
    {
     "name": "stdout",
     "output_type": "stream",
     "text": [
      "hello\n"
     ]
    }
   ],
   "source": [
    "print(\"hello\")"
   ]
  },
  {
   "cell_type": "code",
   "execution_count": null,
   "id": "2650ee69-0482-499e-86f9-baee84dc7694",
   "metadata": {},
   "outputs": [],
   "source": [
    "\"\"\"\n",
    "Page segmentation modes:\n",
    "0 Orientation and script detection (OSD) only.\n",
    "1 Automatic page segmentation with OSD.\n",
    "2 Automatic page segmentation, but no OSD, or OCR.\n",
    "3 Fully automatic page segmentation, but no OSD (default)\n",
    "4 Assume a single column of text of variable sizes\n",
    "5 Assume a single uniform block of vertically aligned text\n",
    "6 Assume a single uniform block of text.\n",
    "7 Treat the image as a single text line.\n",
    "8 Treat the image as a single word.\n",
    "9 Treat the image as a single word in a circle.\n",
    "10 Treat the image as a single character.\n",
    "11 Sparse text Find as much text as possible in no particular order.\n",
    "12 SParse text with OSD\n",
    "13 Raw line. Treat the image as a single text line, bypassing Tessract-specific hacks.\n",
    "\n",
    "\"\"\"\n",
    "\"\"\"\n",
    "OCR Engine Mode\n",
    "0 Legacy engine only.\n",
    "1 Neural nets LSTM engine only.\n",
    "2 Legacy +LSTM engines.\n",
    "3 Default, based on what is available\n",
    "\"\"\"\n",
    "\"\"\"\n",
    "CMD command to practice\n",
    "$ tesseract logos.jpg stdout\n",
    "$ tesseract logos.jpg stdout --psm 11\n",
    "$ tesseract logos.jpg stdout --l deu # deu for german\n",
    "$ tesseract logos.jpg text.txt # save the result into text\n",
    "\"\"\"\n"
   ]
  },
  {
   "cell_type": "code",
   "execution_count": 9,
   "id": "de8f5dac-d9d6-4e6a-a8bc-1c5c0bb3dcd4",
   "metadata": {},
   "outputs": [
    {
     "ename": "ModuleNotFoundError",
     "evalue": "No module named 'ConfigParser'",
     "output_type": "error",
     "traceback": [
      "\u001b[1;31m---------------------------------------------------------------------------\u001b[0m",
      "\u001b[1;31mModuleNotFoundError\u001b[0m                       Traceback (most recent call last)",
      "Cell \u001b[1;32mIn[9], line 3\u001b[0m\n\u001b[0;32m      1\u001b[0m \u001b[38;5;66;03m#pip install pillow opencv-python tesseract pytesseract\u001b[39;00m\n\u001b[0;32m      2\u001b[0m \u001b[38;5;28;01mimport\u001b[39;00m \u001b[38;5;21;01mpytesseract\u001b[39;00m\n\u001b[1;32m----> 3\u001b[0m \u001b[38;5;28;01mimport\u001b[39;00m \u001b[38;5;21;01mtesseract\u001b[39;00m\n\u001b[0;32m      4\u001b[0m \u001b[38;5;28;01mimport\u001b[39;00m \u001b[38;5;21;01mPIL\u001b[39;00m\u001b[38;5;21;01m.\u001b[39;00m\u001b[38;5;21;01mImage\u001b[39;00m\n\u001b[0;32m      5\u001b[0m \u001b[38;5;28;01mimport\u001b[39;00m \u001b[38;5;21;01mcv2\u001b[39;00m\n",
      "File \u001b[1;32m~\\AppData\\Local\\Programs\\Python\\Python313\\Lib\\site-packages\\tesseract\\__init__.py:26\u001b[0m\n\u001b[0;32m      2\u001b[0m \u001b[38;5;124;03m\"\"\"\u001b[39;00m\n\u001b[0;32m      3\u001b[0m \u001b[38;5;124;03mtesseract\u001b[39;00m\n\u001b[0;32m      4\u001b[0m \u001b[38;5;124;03m=========\u001b[39;00m\n\u001b[1;32m   (...)\u001b[0m\n\u001b[0;32m     22\u001b[0m \n\u001b[0;32m     23\u001b[0m \u001b[38;5;124;03m\"\"\"\u001b[39;00m\n\u001b[0;32m     25\u001b[0m \u001b[38;5;66;03m# Basic dependencies\u001b[39;00m\n\u001b[1;32m---> 26\u001b[0m \u001b[38;5;28;01mimport\u001b[39;00m \u001b[38;5;21;01mConfigParser\u001b[39;00m\n\u001b[0;32m     27\u001b[0m \u001b[38;5;28;01mimport\u001b[39;00m \u001b[38;5;21;01mos\u001b[39;00m\n\u001b[0;32m     28\u001b[0m \u001b[38;5;28;01mimport\u001b[39;00m \u001b[38;5;21;01mshutil\u001b[39;00m\n",
      "\u001b[1;31mModuleNotFoundError\u001b[0m: No module named 'ConfigParser'"
     ]
    }
   ],
   "source": [
    "#pip install pillow opencv-python tesseract pytesseract\n",
    "import pytesseract\n",
    "import PIL.Image\n",
    "import cv2\n",
    "\n",
    "\n",
    "myconfig = r\"--psm 6 --oem 3\"\n",
    "text = pytesseract.image_to_string(PIL.Image.open(\"text.jpg\"),config=myconfig)\n",
    "print(text)\n"
   ]
  },
  {
   "cell_type": "code",
   "execution_count": null,
   "id": "f8ec182f-9e6e-42b1-9609-4635cf9aa220",
   "metadata": {},
   "outputs": [],
   "source": []
  },
  {
   "cell_type": "code",
   "execution_count": null,
   "id": "efce8e72-da62-4c14-acac-34f52af187be",
   "metadata": {},
   "outputs": [],
   "source": []
  },
  {
   "cell_type": "code",
   "execution_count": null,
   "id": "124aca8b-2d84-4c21-976b-aba4cfb765f6",
   "metadata": {},
   "outputs": [],
   "source": []
  },
  {
   "cell_type": "code",
   "execution_count": null,
   "id": "3ee26ac9-5f2f-4ad3-a338-d206357a79ba",
   "metadata": {},
   "outputs": [],
   "source": []
  },
  {
   "cell_type": "code",
   "execution_count": null,
   "id": "06ced2d2-638c-4fa9-8ee3-d12100785502",
   "metadata": {},
   "outputs": [],
   "source": []
  },
  {
   "cell_type": "code",
   "execution_count": null,
   "id": "756fec89-c8a6-4bb9-9fab-8986c678949a",
   "metadata": {},
   "outputs": [],
   "source": []
  },
  {
   "cell_type": "code",
   "execution_count": null,
   "id": "175cbb0e-6247-482b-aa61-8bd9369b42c3",
   "metadata": {},
   "outputs": [],
   "source": []
  }
 ],
 "metadata": {
  "kernelspec": {
   "display_name": "Python 3 (ipykernel)",
   "language": "python",
   "name": "python3"
  },
  "language_info": {
   "codemirror_mode": {
    "name": "ipython",
    "version": 3
   },
   "file_extension": ".py",
   "mimetype": "text/x-python",
   "name": "python",
   "nbconvert_exporter": "python",
   "pygments_lexer": "ipython3",
   "version": "3.13.0"
  }
 },
 "nbformat": 4,
 "nbformat_minor": 5
}
